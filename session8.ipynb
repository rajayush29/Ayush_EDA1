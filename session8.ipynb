{
 "cells": [
  {
   "cell_type": "code",
   "execution_count": 4,
   "id": "7b1ae42c",
   "metadata": {},
   "outputs": [
    {
     "name": "stdout",
     "output_type": "stream",
     "text": [
      "Enter a distance8\n",
      "free ride\n"
     ]
    }
   ],
   "source": [
    "# WAP ask the user enter distance : dis\n",
    "# if distance is greater than 50km\n",
    "# agian ask the enter the charge per km: 2rs : fare\n",
    "# calculate the total charge = dis*fare\n",
    "# if distance between 30 to 50\n",
    "# ask the user enter the charge per km: 1rs\n",
    "# calculate the total charge\n",
    "# if distance between 10 to 30\n",
    "# ask the user enter the charge per km: 0.5rs\n",
    "# calculate the total charge\n",
    "# if distance less than 10\n",
    "# print(free ride)\n",
    "\n",
    "dis = eval(input(\"Enter a distance\"))\n",
    "if dis >= 50:\n",
    "    fare = 2\n",
    "    tot_charge = dis*fare\n",
    "    print(f\"for distance {dis} km money charged is {tot_charge}\")\n",
    "elif dis >= 30:\n",
    "    fare = 1\n",
    "    tot_charge = dis*fare\n",
    "    print(f\"for distance {dis} km money charged is {tot_charge}\")\n",
    "elif dis >= 10:\n",
    "    fare = 0.5\n",
    "    tot_charge = dis*fare\n",
    "    print(f\"for distance {dis} km money charged is {tot_charge}\")\n",
    "else:\n",
    "    print(\"free ride\")"
   ]
  },
  {
   "cell_type": "code",
   "execution_count": 12,
   "id": "b3724c93",
   "metadata": {},
   "outputs": [
    {
     "name": "stdout",
     "output_type": "stream",
     "text": [
      "Enter gender : female\n",
      "Enter age : 18\n",
      "young woman\n"
     ]
    }
   ],
   "source": [
    "# wap ask the user enter gender = input()\n",
    "# if gender equal to male gender=='male'\n",
    "# ask the user enter age\n",
    "# if age>45 print aged man\n",
    "# if age between 30 to 45 : print (MA man)\n",
    "# if age between 15 to 30 : print(young man)\n",
    "# if age less than 15: print (\"boy\")\n",
    "#if gender equal to female\n",
    "# ask the user enter age\n",
    "# if age>45 print aged woman\n",
    "# if age between 30 to 45 : print (MA woman)\n",
    "# if age between 15 to 30 : print(young girl)\n",
    "# if age less than 15: print (\"girl\")\n",
    "# else:\n",
    "# print(\"provide proper gender\")\n",
    "\n",
    "gen = input(\"Enter gender : \")\n",
    "if gen == 'male':\n",
    "    age = int(input(\"Enter age : \"))\n",
    "    if age >= 45:\n",
    "        print(\"aged man\")\n",
    "    elif age >= 30:\n",
    "        print(\"middle age man\")\n",
    "    elif age >= 15:\n",
    "        print(\"young man\")\n",
    "    elif age < 15:\n",
    "        print(\"boy\")\n",
    "if gen == 'female':\n",
    "    age = int(input(\"Enter age : \"))\n",
    "    if age >= 45:\n",
    "        print(\"aged woman\")\n",
    "    elif age >= 30:\n",
    "        print(\"middle age woman\")\n",
    "    elif age >= 15:\n",
    "        print(\"young woman\")\n",
    "    elif age < 15:\n",
    "        print(\"girl\")"
   ]
  },
  {
   "cell_type": "code",
   "execution_count": 19,
   "id": "db6a8b44",
   "metadata": {},
   "outputs": [
    {
     "name": "stdout",
     "output_type": "stream",
     "text": [
      "Enter a number0\n",
      "It is a zero\n"
     ]
    }
   ],
   "source": [
    "# wap ask the user enter a number\n",
    "# if number greater than or equal to zero\n",
    "# if number equal to zero: print(\"it is a zero\")\n",
    "# else:print it is a pos number\n",
    "# else:\n",
    "# print it is a negative number\n",
    "\n",
    "num = eval(input(\"Enter a number\"))\n",
    "if num >= 0:\n",
    "    if num == 0:\n",
    "        print(\"It is a zero\")\n",
    "    else:\n",
    "        print(\"It is a pos number\")\n",
    "else:\n",
    "    print(\"it is a negative number\")"
   ]
  },
  {
   "cell_type": "code",
   "execution_count": 23,
   "id": "be0be2da",
   "metadata": {},
   "outputs": [
    {
     "name": "stdout",
     "output_type": "stream",
     "text": [
      "Enter a number 1 : 36\n",
      "Enter a number 2 : 24\n",
      "Enter a number 3 : 12\n",
      "36 is greatest \n"
     ]
    }
   ],
   "source": [
    "# wap find the greater number between the given three numbers\n",
    "# 50 75 100\n",
    "\n",
    "num1 = eval(input(\"Enter a number 1 : \"))\n",
    "num2 = eval(input(\"Enter a number 2 : \"))\n",
    "num3 = eval(input(\"Enter a number 3 : \"))\n",
    "\n",
    "if num2 > num1:\n",
    "    if num2 > num3:\n",
    "        print(f\"{num2} is greatest \")\n",
    "    else:\n",
    "        print(f\"{num3} is greatest \")\n",
    "elif num1 > num2:\n",
    "    if num1 > num3:\n",
    "        print(f\"{num1} is greatest \")\n",
    "    else:\n",
    "        print(f\"{num3} is greatest \")"
   ]
  },
  {
   "cell_type": "code",
   "execution_count": null,
   "id": "0a3e6209",
   "metadata": {},
   "outputs": [],
   "source": []
  }
 ],
 "metadata": {
  "kernelspec": {
   "display_name": "Python 3 (ipykernel)",
   "language": "python",
   "name": "python3"
  },
  "language_info": {
   "codemirror_mode": {
    "name": "ipython",
    "version": 3
   },
   "file_extension": ".py",
   "mimetype": "text/x-python",
   "name": "python",
   "nbconvert_exporter": "python",
   "pygments_lexer": "ipython3",
   "version": "3.11.5"
  }
 },
 "nbformat": 4,
 "nbformat_minor": 5
}
