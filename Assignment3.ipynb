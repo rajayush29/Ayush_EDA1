{
 "cells": [
  {
   "cell_type": "code",
   "execution_count": 2,
   "id": "8661a41b",
   "metadata": {},
   "outputs": [
    {
     "name": "stdout",
     "output_type": "stream",
     "text": [
      "Enter basic salary25000\n",
      "gross salary is 40000.0\n"
     ]
    }
   ],
   "source": [
    "bs = eval(input(\"Enter basic salary\"))\n",
    "da = 0.4*bs\n",
    "hra = 0.2*bs\n",
    "\n",
    "gs = bs+da+hra\n",
    "print(f\"gross salary is {gs}\")"
   ]
  },
  {
   "cell_type": "code",
   "execution_count": 4,
   "id": "1319ba47",
   "metadata": {},
   "outputs": [
    {
     "name": "stdout",
     "output_type": "stream",
     "text": [
      "Enter distance between two cities in km20\n",
      "distance in meter is 20000\n",
      "distance in foot is 65600.0\n",
      "distance in inch is 787200.0\n",
      "distance in cm is 1999488.0\n"
     ]
    }
   ],
   "source": [
    "dis = eval(input(\"Enter distance between two cities in km\"))\n",
    "d_m = 1000*dis\n",
    "d_f = 3.28*d_m\n",
    "d_i = 12*d_f\n",
    "d_cm = 2.54*d_i\n",
    "           \n",
    "print(f\"distance in meter is {d_m}\")\n",
    "print(f\"distance in foot is {d_f}\")\n",
    "print(f\"distance in inch is {d_i}\")\n",
    "print(f\"distance in cm is {d_cm}\")\n",
    "           \n"
   ]
  },
  {
   "cell_type": "code",
   "execution_count": 6,
   "id": "93fbcd37",
   "metadata": {},
   "outputs": [
    {
     "name": "stdout",
     "output_type": "stream",
     "text": [
      "Maximum marks is 100 : Enter the marks obtain from 100\n",
      "Enter marks of math : 80\n",
      "Enter marks of eng : 82\n",
      "Enter marks in science : 84\n",
      "Enter marks in ssc : 86\n",
      "Enter marks in hindi : 88\n",
      "The total marks obtain is 420\n",
      "the percentage is 84.0\n"
     ]
    }
   ],
   "source": [
    "#3) If the marks obtained by a student in five different subjects are input through the keyboard, find out \n",
    "#the aggregate marks and percentage marks obtained by the student. Assume that the maximum \n",
    "#marks that can be obtained by a student in each subject is 100.\n",
    "\n",
    "print(\"Maximum marks is 100 : Enter the marks obtain from 100\")\n",
    "math = eval(input(\"Enter marks of math : \"))\n",
    "eng  = eval(input(\"Enter marks of eng : \"))\n",
    "sci = eval(input(\"Enter marks in science : \"))\n",
    "ssc = eval(input(\"Enter marks in ssc : \"))\n",
    "hindi = eval(input(\"Enter marks in hindi : \"))\n",
    "\n",
    "tot_marks = math+eng+sci+ssc+hindi\n",
    "per = tot_marks/5\n",
    "\n",
    "print(f\"The total marks obtain is {tot_marks}\")\n",
    "print(f\"the percentage is {per}\")"
   ]
  },
  {
   "cell_type": "code",
   "execution_count": 9,
   "id": "dd78ef7a",
   "metadata": {},
   "outputs": [
    {
     "name": "stdout",
     "output_type": "stream",
     "text": [
      "Enter the city temperature in fahreneit : 200\n",
      "the city temperature for 200 fernheit is 93.33 celcius\n"
     ]
    }
   ],
   "source": [
    "temp_f = eval(input(\"Enter the city temperature in fahreneit : \"))\n",
    "temp_c = round((temp_f - 32)*(5/9),2)\n",
    "\n",
    "print(f\"the city temperature for {temp_f} fernheit is {temp_c} celcius\")"
   ]
  },
  {
   "cell_type": "code",
   "execution_count": 13,
   "id": "b63f2eec",
   "metadata": {},
   "outputs": [
    {
     "name": "stdout",
     "output_type": "stream",
     "text": [
      "Enter Length of a rectangle : 10\n",
      "Enter breadth of a rectangle : 10\n",
      "Enter radius of circle : 10\n",
      "area of rectangle is 100\n",
      "perimeter of rectangle is 40\n",
      "area of circle is 314.0\n",
      "perimeter of circle is 62.8\n"
     ]
    }
   ],
   "source": [
    "len = eval(input(\"Enter Length of a rectangle : \"))\n",
    "bre = eval(input(\"Enter breadth of a rectangle : \"))\n",
    "rad = eval(input(\"Enter radius of circle : \"))\n",
    "\n",
    "ar_rec = len*bre\n",
    "pe_rec = 2*(len+bre)\n",
    "ar_cir = round(3.14*rad*rad,2)\n",
    "pe_cir = round(2*3.14*rad,2)\n",
    "\n",
    "print(f\"area of rectangle is {ar_rec}\")\n",
    "print(f\"perimeter of rectangle is {pe_rec}\")\n",
    "print(f\"area of circle is {ar_cir}\")\n",
    "print(f\"perimeter of circle is {pe_cir}\")\n"
   ]
  },
  {
   "cell_type": "code",
   "execution_count": 15,
   "id": "faeb69a1",
   "metadata": {},
   "outputs": [
    {
     "name": "stdout",
     "output_type": "stream",
     "text": [
      "Enter value for C : 30\n",
      "Enter value for D : 20\n",
      "value for C is 20\n",
      "value for D is 30\n"
     ]
    }
   ],
   "source": [
    "C = eval(input(\"Enter value for C : \"))\n",
    "D = eval(input(\"Enter value for D : \"))\n",
    "\n",
    "B = C\n",
    "C = D\n",
    "D = B\n",
    "\n",
    "print(f\"value for C is {C}\")\n",
    "print(f\"value for D is {D}\")\n"
   ]
  },
  {
   "cell_type": "code",
   "execution_count": 16,
   "id": "c54d2aaf",
   "metadata": {},
   "outputs": [
    {
     "ename": "SyntaxError",
     "evalue": "invalid syntax (574218026.py, line 1)",
     "output_type": "error",
     "traceback": [
      "\u001b[1;36m  Cell \u001b[1;32mIn[16], line 1\u001b[1;36m\u001b[0m\n\u001b[1;33m    7. If a five-digit number is input through the keyboard, write a program to reverse the number\u001b[0m\n\u001b[1;37m       ^\u001b[0m\n\u001b[1;31mSyntaxError\u001b[0m\u001b[1;31m:\u001b[0m invalid syntax\n"
     ]
    }
   ],
   "source": [
    "7. If a five-digit number is input through the keyboard, write a program to reverse the number\n",
    "\n"
   ]
  },
  {
   "cell_type": "code",
   "execution_count": 26,
   "id": "b3b03706",
   "metadata": {},
   "outputs": [
    {
     "name": "stdout",
     "output_type": "stream",
     "text": [
      "Enter num : 1234\n",
      "first digit is 1 and The last digit is 4 \n",
      "the sum of first and last digit is 5\n"
     ]
    }
   ],
   "source": [
    "num = eval(input(\"Enter num : \"))\n",
    "l_d = num%10\n",
    "f_d = num//1000\n",
    "\n",
    "print(f\"first digit is {f_d} and The last digit is {l_d} \")\n",
    "\n",
    "summ = l_d+f_d\n",
    "print(f\"the sum of first and last digit is {summ}\")"
   ]
  },
  {
   "cell_type": "code",
   "execution_count": 28,
   "id": "bcbd09be",
   "metadata": {},
   "outputs": [
    {
     "name": "stdout",
     "output_type": "stream",
     "text": [
      "tot_men is 41600.0\n",
      "tot_lit is 38400.0\n",
      "lit_man is 28000.0\n",
      "ill_man is 13600.0\n",
      "lit_wom is 10400.0\n",
      "tot_wom is 38400.0\n",
      "ill_wom is 28000.0\n"
     ]
    }
   ],
   "source": [
    "pop = 80000\n",
    "tot_men = 0.52*pop\n",
    "tot_lit = 0.48*pop\n",
    "lit_man = 0.35*pop\n",
    "ill_man = tot_men - lit_man\n",
    "lit_wom = tot_lit - lit_man\n",
    "tot_wom = 0.48*pop\n",
    "ill_wom = tot_wom - lit_wom\n",
    "\n",
    "print(f\"tot_men is {tot_men}\")\n",
    "print(f\"tot_lit is {tot_lit}\")\n",
    "print(f\"lit_man is {lit_man}\")\n",
    "print(f\"ill_man is {ill_man}\")\n",
    "print(f\"lit_wom is {lit_wom}\")\n",
    "print(f\"tot_wom is {tot_wom}\")\n",
    "print(f\"ill_wom is {ill_wom}\")"
   ]
  },
  {
   "cell_type": "code",
   "execution_count": 29,
   "id": "d37df732",
   "metadata": {},
   "outputs": [
    {
     "ename": "SyntaxError",
     "evalue": "invalid syntax (3831672521.py, line 1)",
     "output_type": "error",
     "traceback": [
      "\u001b[1;36m  Cell \u001b[1;32mIn[29], line 1\u001b[1;36m\u001b[0m\n\u001b[1;33m    10. A cashier has currency notes of denominations 10, 50 and 100. If the amount to be withdrawn is\u001b[0m\n\u001b[1;37m        ^\u001b[0m\n\u001b[1;31mSyntaxError\u001b[0m\u001b[1;31m:\u001b[0m invalid syntax\n"
     ]
    }
   ],
   "source": [
    "10. A cashier has currency notes of denominations 10, 50 and 100. If the amount to be withdrawn is \n",
    "input through the keyboard in hundreds, find the total number of currency notes of each \n",
    "denomination the cashier will have to give to the withdrawer."
   ]
  },
  {
   "cell_type": "code",
   "execution_count": 36,
   "id": "18e0f58c",
   "metadata": {},
   "outputs": [
    {
     "name": "stdout",
     "output_type": "stream",
     "text": [
      "Enter amount : 1080\n",
      "number of hundread ruppes is 10 and number of fifty rupees is 1 and number of ten rupees is 3\n"
     ]
    }
   ],
   "source": [
    "amt = eval(input(\"Enter amount : \"))\n",
    "hun_num = amt//100\n",
    "chg1 = amt%100\n",
    "fif_num = chg1//50\n",
    "chg2 = chg1%50\n",
    "ten_num = chg2 // 10\n",
    "\n",
    "print(f\"number of hundread ruppes is {hun_num} and number of fifty rupees is {fif_num} and number of ten rupees is {ten_num}\")\n"
   ]
  },
  {
   "cell_type": "code",
   "execution_count": 34,
   "id": "48ac313b",
   "metadata": {},
   "outputs": [
    {
     "name": "stdout",
     "output_type": "stream",
     "text": [
      "Enter amount : 970\n",
      "9 70\n"
     ]
    }
   ],
   "source": [
    "amt = eval(input(\"Enter amount : \"))\n",
    "hun_num = amt//100\n",
    "chg1 = amt%100\n",
    "print(f\"{hun_num} {chg1}\")"
   ]
  },
  {
   "cell_type": "code",
   "execution_count": null,
   "id": "6b782372",
   "metadata": {},
   "outputs": [],
   "source": []
  },
  {
   "cell_type": "code",
   "execution_count": null,
   "id": "86a29a0e",
   "metadata": {},
   "outputs": [],
   "source": []
  }
 ],
 "metadata": {
  "kernelspec": {
   "display_name": "Python 3 (ipykernel)",
   "language": "python",
   "name": "python3"
  },
  "language_info": {
   "codemirror_mode": {
    "name": "ipython",
    "version": 3
   },
   "file_extension": ".py",
   "mimetype": "text/x-python",
   "name": "python",
   "nbconvert_exporter": "python",
   "pygments_lexer": "ipython3",
   "version": "3.11.5"
  }
 },
 "nbformat": 4,
 "nbformat_minor": 5
}
