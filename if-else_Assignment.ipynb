{
 "cells": [
  {
   "cell_type": "code",
   "execution_count": 4,
   "id": "1a2cbc3a",
   "metadata": {},
   "outputs": [
    {
     "name": "stdout",
     "output_type": "stream",
     "text": [
      "Enter length in CM : 6\n",
      "length in inch is 15.24\n"
     ]
    }
   ],
   "source": [
    "length = eval(input(\"Enter length in CM : \"))\n",
    "if length >= 0:\n",
    "    len_in = 2.54*length\n",
    "    print(f\"length in inch is {len_in}\")\n",
    "else:\n",
    "    print(\"Entry is invalid\")"
   ]
  },
  {
   "cell_type": "code",
   "execution_count": 15,
   "id": "60ec2275",
   "metadata": {},
   "outputs": [
    {
     "name": "stdout",
     "output_type": "stream",
     "text": [
      "Enter a temperature : 100\n",
      "What is the unit of temp celcius c or fahrenheit f : f\n",
      "for 100 fahrenheit temperature in celcius is 37.78\n"
     ]
    }
   ],
   "source": [
    "temp = eval(input(\"Enter a temperature : \"))\n",
    "uni = input(\"What is the unit of temp celcius c or fahrenheit f : \")\n",
    "if uni == 'c':\n",
    "    temp_f = (9/5)*temp+32\n",
    "    print(f\"for {temp} celcius temperature in fahrenheit is {temp_f}\")\n",
    "elif uni == 'f':\n",
    "    temp_c = round((5/9)*(temp-32),2)\n",
    "    \n",
    "    print(f\"for {temp} fahrenheit temperature in celcius is {temp_c}\")"
   ]
  },
  {
   "cell_type": "code",
   "execution_count": 23,
   "id": "49fed947",
   "metadata": {},
   "outputs": [
    {
     "name": "stdout",
     "output_type": "stream",
     "text": [
      "Enter temperature in Celcius : 145\n",
      "temperature is above the boiling point\n"
     ]
    }
   ],
   "source": [
    "temp = eval(input(\"Enter temperature in Celcius : \"))\n",
    "if temp < -273.15:\n",
    "    print(\"the temp is invalid because it is absolute zero\")\n",
    "elif temp == -273.15:\n",
    "    print(\"the temp is absolute zero\")\n",
    "elif temp < 0:\n",
    "    print(\"the temp is below freezing point\")\n",
    "elif temp > 0 and temp < 100:\n",
    "    print(\"temperature is in normal range\")\n",
    "elif temp == 100:\n",
    "    print(\"temperature is at the boiling point\")\n",
    "else:\n",
    "    print(\"temperature is above the boiling point\")\n"
   ]
  },
  {
   "cell_type": "code",
   "execution_count": 30,
   "id": "920d167e",
   "metadata": {},
   "outputs": [
    {
     "name": "stdout",
     "output_type": "stream",
     "text": [
      "Enter how many credits they have taken : 87\n",
      "seniors\n"
     ]
    }
   ],
   "source": [
    "credit = eval(input(\"Enter how many credits they have taken : \"))\n",
    "if credit < 23:\n",
    "    print(\"freshman\")\n",
    "elif credit < 53:\n",
    "    print(\"asophomore\")\n",
    "elif credit < 83:\n",
    "    print(\"juniors\")\n",
    "else:\n",
    "    print(\"seniors\")"
   ]
  },
  {
   "cell_type": "code",
   "execution_count": 38,
   "id": "28266cc0",
   "metadata": {},
   "outputs": [
    {
     "name": "stdout",
     "output_type": "stream",
     "text": [
      "Enter number 5\n",
      "your guess is wrong\n"
     ]
    }
   ],
   "source": [
    "import random\n",
    "n1 = random.randint(1,10)\n",
    "n2 = eval(input(\"Enter number \"))\n",
    "if n1 == n2:\n",
    "    print(\"You guess it right \")\n",
    "else:\n",
    "    print(\"your guess is wrong\")"
   ]
  },
  {
   "cell_type": "code",
   "execution_count": 46,
   "id": "838f8155",
   "metadata": {},
   "outputs": [
    {
     "name": "stdout",
     "output_type": "stream",
     "text": [
      "Enter number of items : 50\n",
      "for 50 items the cost is 500\n"
     ]
    }
   ],
   "source": [
    "num_of_item = eval(input(\"Enter number of items : \"))\n",
    "if num_of_item < 10:\n",
    "    tot_cost = num_of_item*12\n",
    "    print(f\"for {num_of_item} items the cost is {tot_cost}\")\n",
    "elif num_of_item < 99:\n",
    "    tot_cost = num_of_item*10\n",
    "    print(f\"for {num_of_item} items the cost is {tot_cost}\") \n",
    "else:\n",
    "    tot_cost = num_of_item*7\n",
    "    print(f\"for {num_of_item} items the cost is {tot_cost}\")\n",
    "    "
   ]
  },
  {
   "cell_type": "code",
   "execution_count": 107,
   "id": "13db4cb5",
   "metadata": {},
   "outputs": [
    {
     "name": "stdout",
     "output_type": "stream",
     "text": [
      "Enter num1 : 3.99999\n",
      "Enter num2 : 4\n",
      "close\n"
     ]
    }
   ],
   "source": [
    "n1 = eval(input(\"Enter num1 : \"))\n",
    "n2 = eval(input(\"Enter num2 : \"))\n",
    "if n1> n2:\n",
    "    if n1-n2 <= 0.001:\n",
    "        print(\"close\")\n",
    "    else:\n",
    "        print(\"not close\")\n",
    "elif n2 > n1:\n",
    "    if n2-n1 <= 0.001:\n",
    "        print(\"close\")\n",
    "    else:\n",
    "        print(\"not close\")"
   ]
  },
  {
   "cell_type": "code",
   "execution_count": 72,
   "id": "c9dffaaa",
   "metadata": {},
   "outputs": [
    {
     "name": "stdout",
     "output_type": "stream",
     "text": [
      "Enter year : 2300\n",
      "not leap year\n"
     ]
    }
   ],
   "source": [
    "year = eval(input(\"Enter year : \"))\n",
    "if year % 4 == 0:\n",
    "    if year % 100 == 0:\n",
    "        if year% 400 == 0:\n",
    "            print(\"leap year\")\n",
    "        else:\n",
    "            print(\"not leap year\")    \n",
    "    else:\n",
    "        print(\"leap year\")\n",
    "else:\n",
    "    print(\"not a leap year\")\n",
    "            \n",
    "        \n",
    "    "
   ]
  },
  {
   "cell_type": "code",
   "execution_count": 75,
   "id": "aeb9cc9c",
   "metadata": {},
   "outputs": [
    {
     "name": "stdout",
     "output_type": "stream",
     "text": [
      "Enter a number : 25\n",
      "1 is divisor of 25\n",
      "5 is divisor of 25\n",
      "25 is divisor of 25\n"
     ]
    }
   ],
   "source": [
    "n = eval(input(\"Enter a number : \"))\n",
    "for i in range (1,n+1):\n",
    "    if n%i == 0:\n",
    "        print(f\"{i} is divisor of {n}\")\n",
    "        "
   ]
  },
  {
   "cell_type": "code",
   "execution_count": 95,
   "id": "e6922656",
   "metadata": {},
   "outputs": [
    {
     "name": "stdout",
     "output_type": "stream",
     "text": [
      "Enter hour : 3\n",
      "Enter am or pm : pm\n",
      "How many hours ahead you want : 3\n",
      "the new time now is 6 pm\n"
     ]
    }
   ],
   "source": [
    "hour = eval(input(\"Enter hour : \"))\n",
    "t_format = input(\"Enter am or pm : \")\n",
    "fu_time = eval(input(\"How many hours ahead you want : \"))\n",
    "if t_format == 'pm':\n",
    "    hour = hour+12\n",
    "hour = hour+fu_time\n",
    "if hour > 12:\n",
    "    hour = hour - 12\n",
    "    print(f\"the new time now is {hour} pm\")\n",
    "else:\n",
    "        print(f\"the new time is {hour} am\")\n",
    "\n",
    "    \n",
    "    \n"
   ]
  },
  {
   "cell_type": "markdown",
   "id": "bc1c4107",
   "metadata": {},
   "source": []
  },
  {
   "cell_type": "code",
   "execution_count": 108,
   "id": "de194dc4",
   "metadata": {},
   "outputs": [],
   "source": [
    "name = 'python'"
   ]
  },
  {
   "cell_type": "code",
   "execution_count": 109,
   "id": "ec0cae97",
   "metadata": {},
   "outputs": [
    {
     "data": {
      "text/plain": [
       "str"
      ]
     },
     "execution_count": 109,
     "metadata": {},
     "output_type": "execute_result"
    }
   ],
   "source": [
    "type(name)"
   ]
  },
  {
   "cell_type": "code",
   "execution_count": 110,
   "id": "5d8c0d9f",
   "metadata": {},
   "outputs": [],
   "source": [
    "name1='python'"
   ]
  },
  {
   "cell_type": "code",
   "execution_count": 111,
   "id": "067558fc",
   "metadata": {},
   "outputs": [
    {
     "data": {
      "text/plain": [
       "str"
      ]
     },
     "execution_count": 111,
     "metadata": {},
     "output_type": "execute_result"
    }
   ],
   "source": [
    "type(name1)"
   ]
  },
  {
   "cell_type": "code",
   "execution_count": 112,
   "id": "db40fbde",
   "metadata": {},
   "outputs": [],
   "source": [
    "name1='python'"
   ]
  },
  {
   "cell_type": "code",
   "execution_count": 113,
   "id": "28fbdb06",
   "metadata": {},
   "outputs": [
    {
     "data": {
      "text/plain": [
       "str"
      ]
     },
     "execution_count": 113,
     "metadata": {},
     "output_type": "execute_result"
    }
   ],
   "source": [
    "type(name1)"
   ]
  },
  {
   "cell_type": "code",
   "execution_count": 114,
   "id": "ceb8fa29",
   "metadata": {},
   "outputs": [
    {
     "name": "stdout",
     "output_type": "stream",
     "text": [
      "I like \"you\"\n"
     ]
    }
   ],
   "source": [
    "name = 'I like \"you\"'\n",
    "print(name)"
   ]
  },
  {
   "cell_type": "code",
   "execution_count": 115,
   "id": "8a54d599",
   "metadata": {},
   "outputs": [],
   "source": [
    "name4 = \"\"\"python\"\"\""
   ]
  },
  {
   "cell_type": "code",
   "execution_count": 116,
   "id": "5e519aeb",
   "metadata": {},
   "outputs": [
    {
     "name": "stdout",
     "output_type": "stream",
     "text": [
      "python\n"
     ]
    }
   ],
   "source": [
    "print(name4)"
   ]
  },
  {
   "cell_type": "code",
   "execution_count": 118,
   "id": "cd86bfcc",
   "metadata": {},
   "outputs": [
    {
     "ename": "TypeError",
     "evalue": "Random.randint() missing 2 required positional arguments: 'a' and 'b'",
     "output_type": "error",
     "traceback": [
      "\u001b[1;31m---------------------------------------------------------------------------\u001b[0m",
      "\u001b[1;31mTypeError\u001b[0m                                 Traceback (most recent call last)",
      "Cell \u001b[1;32mIn[118], line 2\u001b[0m\n\u001b[0;32m      1\u001b[0m \u001b[38;5;28;01mimport\u001b[39;00m \u001b[38;5;21;01mrandom\u001b[39;00m\n\u001b[1;32m----> 2\u001b[0m random\u001b[38;5;241m.\u001b[39mrandint()\n",
      "\u001b[1;31mTypeError\u001b[0m: Random.randint() missing 2 required positional arguments: 'a' and 'b'"
     ]
    }
   ],
   "source": [
    "import random\n",
    "random.randint()"
   ]
  },
  {
   "cell_type": "code",
   "execution_count": 119,
   "id": "927a5f8f",
   "metadata": {},
   "outputs": [],
   "source": [
    "name='python'"
   ]
  },
  {
   "cell_type": "code",
   "execution_count": 120,
   "id": "3a411dba",
   "metadata": {},
   "outputs": [
    {
     "data": {
      "text/plain": [
       "'y'"
      ]
     },
     "execution_count": 120,
     "metadata": {},
     "output_type": "execute_result"
    }
   ],
   "source": [
    "max(name)"
   ]
  },
  {
   "cell_type": "code",
   "execution_count": 121,
   "id": "5631aa60",
   "metadata": {},
   "outputs": [
    {
     "data": {
      "text/plain": [
       "'h'"
      ]
     },
     "execution_count": 121,
     "metadata": {},
     "output_type": "execute_result"
    }
   ],
   "source": [
    "min(name)"
   ]
  },
  {
   "cell_type": "code",
   "execution_count": 122,
   "id": "86dfe0a6",
   "metadata": {},
   "outputs": [
    {
     "data": {
      "text/plain": [
       "(112, 121, 116, 104, 111, 110)"
      ]
     },
     "execution_count": 122,
     "metadata": {},
     "output_type": "execute_result"
    }
   ],
   "source": [
    "ord('p'),ord('y'),ord('t'),ord('h'),ord('o'),ord('n')"
   ]
  },
  {
   "cell_type": "code",
   "execution_count": 123,
   "id": "2b451d44",
   "metadata": {},
   "outputs": [
    {
     "data": {
      "text/plain": [
       "('p', 112)"
      ]
     },
     "execution_count": 123,
     "metadata": {},
     "output_type": "execute_result"
    }
   ],
   "source": [
    "chr(112),ord('p')"
   ]
  },
  {
   "cell_type": "code",
   "execution_count": 125,
   "id": "2131e06e",
   "metadata": {},
   "outputs": [
    {
     "name": "stdout",
     "output_type": "stream",
     "text": [
      "33 ! 34 \" 35 # 36 $ 37 % 38 & 39 ' 40 ( 41 ) 42 * 43 + 44 , 45 - 46 . 47 / 48 0 49 1 50 2 51 3 52 4 53 5 54 6 55 7 56 8 57 9 58 : 59 ; 60 < 61 = 62 > 63 ? 64 @ 65 A 66 B 67 C 68 D 69 E 70 F 71 G 72 H 73 I 74 J 75 K 76 L 77 M 78 N 79 O 80 P 81 Q 82 R 83 S 84 T 85 U 86 V 87 W 88 X 89 Y 90 Z 91 [ 92 \\ 93 ] 94 ^ 95 _ 96 ` 97 a 98 b 99 c 100 d 101 e 102 f 103 g 104 h 105 i 106 j 107 k 108 l 109 m 110 n 111 o 112 p 113 q 114 r 115 s 116 t 117 u 118 v 119 w 120 x 121 y 122 z 123 { 124 | 125 } 126 ~ 127  "
     ]
    }
   ],
   "source": [
    "for i in range(33,128):\n",
    "    print(i,chr(i),end=' ')"
   ]
  },
  {
   "cell_type": "code",
   "execution_count": 128,
   "id": "3f6d7f99",
   "metadata": {},
   "outputs": [
    {
     "ename": "TypeError",
     "evalue": "unsupported operand type(s) for -: 'str' and 'str'",
     "output_type": "error",
     "traceback": [
      "\u001b[1;31m---------------------------------------------------------------------------\u001b[0m",
      "\u001b[1;31mTypeError\u001b[0m                                 Traceback (most recent call last)",
      "Cell \u001b[1;32mIn[128], line 1\u001b[0m\n\u001b[1;32m----> 1\u001b[0m \u001b[38;5;124m'\u001b[39m\u001b[38;5;124mbanana\u001b[39m\u001b[38;5;124m'\u001b[39m \u001b[38;5;241m-\u001b[39m \u001b[38;5;124m'\u001b[39m\u001b[38;5;124mbanana\u001b[39m\u001b[38;5;124m'\u001b[39m\n",
      "\u001b[1;31mTypeError\u001b[0m: unsupported operand type(s) for -: 'str' and 'str'"
     ]
    }
   ],
   "source": [
    "'banana' - 'banana'"
   ]
  },
  {
   "cell_type": "code",
   "execution_count": 129,
   "id": "62a9e451",
   "metadata": {},
   "outputs": [
    {
     "data": {
      "text/plain": [
       "13"
      ]
     },
     "execution_count": 129,
     "metadata": {},
     "output_type": "execute_result"
    }
   ],
   "source": [
    "str1 = 'I like python'\n",
    "len(str1)"
   ]
  },
  {
   "cell_type": "code",
   "execution_count": 132,
   "id": "66d3d57d",
   "metadata": {},
   "outputs": [
    {
     "name": "stdout",
     "output_type": "stream",
     "text": [
      "n\n",
      "o\n",
      "h\n",
      "t\n",
      "y\n",
      "p\n"
     ]
    }
   ],
   "source": [
    "for i in reversed('python'):\n",
    "    \n",
    "    print(i)"
   ]
  },
  {
   "cell_type": "code",
   "execution_count": 133,
   "id": "10b540e8",
   "metadata": {},
   "outputs": [
    {
     "name": "stdout",
     "output_type": "stream",
     "text": [
      "a\n",
      "p\n",
      "p\n",
      "l\n",
      "e\n"
     ]
    }
   ],
   "source": [
    "s1 = 'apple'\n",
    "for i in s1:\n",
    "    print(i)"
   ]
  },
  {
   "cell_type": "code",
   "execution_count": 134,
   "id": "3da7e7d2",
   "metadata": {},
   "outputs": [
    {
     "data": {
      "text/plain": [
       "['h', 'n', 'o', 'p', 't', 'y']"
      ]
     },
     "execution_count": 134,
     "metadata": {},
     "output_type": "execute_result"
    }
   ],
   "source": [
    "sorted('python')"
   ]
  },
  {
   "cell_type": "code",
   "execution_count": 136,
   "id": "e0c3e29f",
   "metadata": {},
   "outputs": [
    {
     "data": {
      "text/plain": [
       "['y', 't', 'p', 'o', 'n', 'h']"
      ]
     },
     "execution_count": 136,
     "metadata": {},
     "output_type": "execute_result"
    }
   ],
   "source": [
    "sorted('python',reverse=True)"
   ]
  },
  {
   "cell_type": "code",
   "execution_count": 139,
   "id": "ea01d3f1",
   "metadata": {},
   "outputs": [
    {
     "name": "stdout",
     "output_type": "stream",
     "text": [
      "p 112\n",
      "y 121\n",
      "t 116\n",
      "h 104\n",
      "o 111\n",
      "n 110\n"
     ]
    }
   ],
   "source": [
    "for i in 'python':\n",
    "    print(i,ord(i))"
   ]
  },
  {
   "cell_type": "code",
   "execution_count": 143,
   "id": "e4f66b3d",
   "metadata": {},
   "outputs": [],
   "source": [
    "str1='python'\n",
    "str2='Hello'\n",
    "str3 = str1+' '+str2"
   ]
  },
  {
   "cell_type": "code",
   "execution_count": 144,
   "id": "7de02acb",
   "metadata": {},
   "outputs": [
    {
     "name": "stdout",
     "output_type": "stream",
     "text": [
      "python Hellopython Hellopython Hello\n"
     ]
    }
   ],
   "source": [
    "print(3*str3)"
   ]
  },
  {
   "cell_type": "code",
   "execution_count": 145,
   "id": "38995987",
   "metadata": {},
   "outputs": [],
   "source": [
    "str1='python'"
   ]
  },
  {
   "cell_type": "code",
   "execution_count": 146,
   "id": "cb601b2a",
   "metadata": {},
   "outputs": [
    {
     "data": {
      "text/plain": [
       "'python'"
      ]
     },
     "execution_count": 146,
     "metadata": {},
     "output_type": "execute_result"
    }
   ],
   "source": [
    "str1"
   ]
  },
  {
   "cell_type": "code",
   "execution_count": 150,
   "id": "f894521b",
   "metadata": {},
   "outputs": [
    {
     "data": {
      "text/plain": [
       "'n'"
      ]
     },
     "execution_count": 150,
     "metadata": {},
     "output_type": "execute_result"
    }
   ],
   "source": [
    "str1[0]\n",
    "str1[1]\n",
    "str1[2]\n",
    "str1[3]\n",
    "str1[4]\n",
    "str1[5]\n"
   ]
  },
  {
   "cell_type": "code",
   "execution_count": 151,
   "id": "702348fc",
   "metadata": {},
   "outputs": [
    {
     "name": "stdout",
     "output_type": "stream",
     "text": [
      "0 p\n",
      "1 y\n",
      "2 t\n",
      "3 h\n",
      "4 o\n",
      "5 n\n"
     ]
    }
   ],
   "source": [
    "for i in range(6):\n",
    "    print(i,str1[i])"
   ]
  },
  {
   "cell_type": "code",
   "execution_count": 152,
   "id": "f29c23cb",
   "metadata": {},
   "outputs": [
    {
     "name": "stdout",
     "output_type": "stream",
     "text": [
      "p y t h o n "
     ]
    }
   ],
   "source": [
    "str1='python'\n",
    "for i in str1:\n",
    "    print(i,end=' ')"
   ]
  },
  {
   "cell_type": "code",
   "execution_count": 153,
   "id": "2bdf6898",
   "metadata": {},
   "outputs": [
    {
     "name": "stdout",
     "output_type": "stream",
     "text": [
      "0 p\n",
      "1 y\n",
      "2 t\n",
      "3 h\n",
      "4 o\n",
      "5 n\n"
     ]
    }
   ],
   "source": [
    "str1 = 'python'\n",
    "for i in range(len(str1)):\n",
    "    print(i,str1[i])"
   ]
  },
  {
   "cell_type": "code",
   "execution_count": 163,
   "id": "930c6d40",
   "metadata": {},
   "outputs": [
    {
     "name": "stdout",
     "output_type": "stream",
     "text": [
      "0 p\n",
      "1 y\n",
      "2 t\n",
      "3 h\n",
      "4 o\n",
      "5 n\n"
     ]
    }
   ],
   "source": [
    "str1='python'\n",
    "for i in range(len(str1)):\n",
    "    print(i,str1[i])"
   ]
  },
  {
   "cell_type": "code",
   "execution_count": null,
   "id": "b960d504",
   "metadata": {},
   "outputs": [],
   "source": [
    "str1="
   ]
  },
  {
   "cell_type": "code",
   "execution_count": null,
   "id": "c0ace026",
   "metadata": {},
   "outputs": [],
   "source": []
  }
 ],
 "metadata": {
  "kernelspec": {
   "display_name": "Python 3 (ipykernel)",
   "language": "python",
   "name": "python3"
  },
  "language_info": {
   "codemirror_mode": {
    "name": "ipython",
    "version": 3
   },
   "file_extension": ".py",
   "mimetype": "text/x-python",
   "name": "python",
   "nbconvert_exporter": "python",
   "pygments_lexer": "ipython3",
   "version": "3.11.5"
  }
 },
 "nbformat": 4,
 "nbformat_minor": 5
}
