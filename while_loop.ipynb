{
 "cells": [
  {
   "cell_type": "code",
   "execution_count": 6,
   "id": "6587ea3d",
   "metadata": {},
   "outputs": [
    {
     "name": "stdout",
     "output_type": "stream",
     "text": [
      "Enter num : 11\n",
      "1 odd\n",
      "2 Even\n",
      "3 odd\n",
      "4 Even\n",
      "5 odd\n",
      "6 Even\n",
      "7 odd\n",
      "8 Even\n",
      "9 odd\n",
      "10 Even\n",
      "11 odd\n",
      " even no. 5\n",
      " odd no. 6\n"
     ]
    }
   ],
   "source": [
    "# Improvise the above code\n",
    "# Find out how many even numbers are there\n",
    "# how many odd numbers are there\n",
    "# counter program\n",
    "\n",
    "even = 0\n",
    "odd = 0\n",
    "n = eval(input(\"Enter num : \"))\n",
    "for i in range (1,n+1):\n",
    "    if i%2 == 0:\n",
    "        print(f\"{i} Even\")\n",
    "        even = even+1\n",
    "    else:\n",
    "        print(f\"{i} odd\")\n",
    "        odd = odd+1\n",
    "print(f\" even no. {even}\")\n",
    "print(f\" odd no. {odd}\")"
   ]
  },
  {
   "cell_type": "code",
   "execution_count": 9,
   "id": "073d0af1",
   "metadata": {},
   "outputs": [
    {
     "name": "stdout",
     "output_type": "stream",
     "text": [
      "37 is odd\n",
      "44 is Even\n",
      "12 is Even\n",
      "7 is odd\n",
      "8 is Even\n",
      " even no. 3\n",
      " odd no. 2\n"
     ]
    }
   ],
   "source": [
    "import random\n",
    "even = 0\n",
    "odd = 0\n",
    "for i in range (1,6):\n",
    "    n = random.randint(1,50)\n",
    "    if n%2 == 0:\n",
    "        print(f\"{n} is Even\")\n",
    "        even = even+1\n",
    "    else:\n",
    "        print(f\"{n} is odd\")\n",
    "        odd = odd+1\n",
    "print(f\" even no. {even}\")\n",
    "print(f\" odd no. {odd}\")"
   ]
  },
  {
   "cell_type": "code",
   "execution_count": 10,
   "id": "09ac28c3",
   "metadata": {},
   "outputs": [
    {
     "name": "stdout",
     "output_type": "stream",
     "text": [
      "3\n",
      "25\n",
      "-3\n"
     ]
    }
   ],
   "source": [
    "for i in (3,25,-3):\n",
    "    print(i)"
   ]
  },
  {
   "cell_type": "code",
   "execution_count": 12,
   "id": "33b92c29",
   "metadata": {},
   "outputs": [
    {
     "name": "stdout",
     "output_type": "stream",
     "text": [
      "Enter num : 20\n",
      "the sum of first 20 number is 210\n"
     ]
    }
   ],
   "source": [
    "# WAP ask the user sum of first 10 natural numbers\n",
    "# step-1: summ=0\n",
    "# step-2: iterate through loop range(1,11)\n",
    "# step-3: summ=summ+i\n",
    "# same like counter programe\n",
    "\n",
    "n = eval(input(\"Enter num : \"))\n",
    "summ=0\n",
    "for i in range(1,n+1):\n",
    "    summ=summ+i\n",
    "print(f\"the sum of first {n} number is {summ}\")"
   ]
  },
  {
   "cell_type": "code",
   "execution_count": 15,
   "id": "d2e6145b",
   "metadata": {},
   "outputs": [
    {
     "name": "stdout",
     "output_type": "stream",
     "text": [
      "Enter a num : 20\n",
      "1\n",
      "2\n",
      "4\n",
      "5\n",
      "10\n",
      "20\n",
      "total number of divisor is 6\n"
     ]
    }
   ],
   "source": [
    "# WAP ask the user to find the divisors of a given number\n",
    "# I want to know divisors of 10\n",
    "\n",
    "count = 0\n",
    "num = eval(input(\"Enter a num : \"))\n",
    "start = 1\n",
    "stop = num+1\n",
    "for i in range(start,stop):\n",
    "    if num%i == 0:\n",
    "        print(f\"{i}\")\n",
    "        count = count+1\n",
    "print(f\"total number of divisor is {count}\")"
   ]
  },
  {
   "cell_type": "code",
   "execution_count": 28,
   "id": "469a5fbe",
   "metadata": {},
   "outputs": [],
   "source": [
    "def devisor(num):\n",
    "    count = 0\n",
    "    start = 1\n",
    "    stop = num+1\n",
    "    for i in range(start,stop):\n",
    "        if num%i == 0:\n",
    "            count = count+1\n",
    "    return print(count)"
   ]
  },
  {
   "cell_type": "code",
   "execution_count": 32,
   "id": "49505335",
   "metadata": {},
   "outputs": [
    {
     "name": "stdout",
     "output_type": "stream",
     "text": [
      "2\n"
     ]
    }
   ],
   "source": [
    "count = devisor(2)"
   ]
  },
  {
   "cell_type": "code",
   "execution_count": 33,
   "id": "ea0d290b",
   "metadata": {},
   "outputs": [
    {
     "name": "stdout",
     "output_type": "stream",
     "text": [
      "None\n"
     ]
    }
   ],
   "source": [
    "print(count)"
   ]
  },
  {
   "cell_type": "code",
   "execution_count": 44,
   "id": "641c600d",
   "metadata": {},
   "outputs": [
    {
     "name": "stdout",
     "output_type": "stream",
     "text": [
      "Enter num : 8\n",
      "you lost\n",
      "Enter num : 7\n",
      "you lost\n",
      "Enter num : 4\n",
      "you lost\n"
     ]
    }
   ],
   "source": [
    "# WAP ask the user get a random number 1,10\n",
    "# ask the user enter a number\n",
    "# if both are matching print you won\n",
    "# else print you lost\n",
    "# give 3 chances\n",
    "\n",
    "import random\n",
    "for i in range (1,4):\n",
    "    n1 = random.randint(1,10)\n",
    "    n2 = eval(input(\"Enter num : \"))\n",
    "    if n1 == n2:\n",
    "        print(\"you won\")\n",
    "    else:\n",
    "        print(\"you lost\")"
   ]
  },
  {
   "cell_type": "markdown",
   "id": "7f4d2b9e",
   "metadata": {},
   "source": [
    "# The problem: if yoy guess correct or wrong, it is asking again\n",
    "# we need to avoid that\n",
    "# improvise above code \n",
    "# when you guess correct number code should stop\n",
    "# the guess the number prompt shoud come whenver you out \n"
   ]
  },
  {
   "cell_type": "code",
   "execution_count": 47,
   "id": "bf72cced",
   "metadata": {},
   "outputs": [
    {
     "name": "stdout",
     "output_type": "stream",
     "text": [
      "3\n",
      "Enter num : 4\n",
      "you lost\n",
      "3\n",
      "Enter num : 7\n",
      "you lost\n",
      "2\n",
      "Enter num : 3\n",
      "you lost\n"
     ]
    }
   ],
   "source": [
    "import random\n",
    "for i in range (1,4):\n",
    "    n1 = random.randint(1,10)\n",
    "    print(f\"{n1}\")\n",
    "    n2 = eval(input(\"Enter num : \"))\n",
    "    if n1 == n2:\n",
    "        print(\"you won\")\n",
    "        break\n",
    "    else:\n",
    "        print(\"you lost\")"
   ]
  },
  {
   "cell_type": "code",
   "execution_count": 51,
   "id": "7c7109c2",
   "metadata": {},
   "outputs": [
    {
     "name": "stdout",
     "output_type": "stream",
     "text": [
      "1\n",
      "2\n",
      "3\n",
      "4\n",
      "5\n",
      "6\n",
      "7\n",
      "8\n",
      "9\n"
     ]
    }
   ],
   "source": [
    "count=1\n",
    "i=11\n",
    "while i < 20:\n",
    "    print(count)\n",
    "    count=count+1\n",
    "    i=i+1    "
   ]
  },
  {
   "cell_type": "code",
   "execution_count": null,
   "id": "e58e2bd8",
   "metadata": {},
   "outputs": [],
   "source": [
    "i=0\n",
    "while i >= 0:\n",
    "    print(i,end=' ')\n",
    "    i=i+1\n",
    "    if i == 9:\n",
    "        "
   ]
  },
  {
   "cell_type": "code",
   "execution_count": 54,
   "id": "6a86cf84",
   "metadata": {},
   "outputs": [
    {
     "name": "stdout",
     "output_type": "stream",
     "text": [
      "square of 20 is 400\n",
      "square of 49 is 2401\n",
      "square of 37 is 1369\n",
      "square of 49 is 2401\n",
      "square of 28 is 784\n"
     ]
    }
   ],
   "source": [
    "import random\n",
    "i = 1\n",
    "while i <= 5:\n",
    "    n = random.randint(1,100)\n",
    "    print (f\"square of {n} is {n*n}\")\n",
    "    i = i+1"
   ]
  },
  {
   "cell_type": "code",
   "execution_count": 56,
   "id": "f87edf0d",
   "metadata": {},
   "outputs": [
    {
     "name": "stdout",
     "output_type": "stream",
     "text": [
      "sum is 55\n"
     ]
    }
   ],
   "source": [
    "n = 0\n",
    "i = 1\n",
    "while i <= 10:\n",
    "    n = n+i\n",
    "    i = i+1\n",
    "print (f\"sum is {n}\")"
   ]
  },
  {
   "cell_type": "code",
   "execution_count": 62,
   "id": "80ea1372",
   "metadata": {},
   "outputs": [
    {
     "name": "stdout",
     "output_type": "stream",
     "text": [
      "1\n",
      "2\n",
      "4\n",
      "37\n",
      "74\n",
      "148\n",
      "6\n"
     ]
    }
   ],
   "source": [
    "count=0\n",
    "n = 148\n",
    "i = 1\n",
    "while i <= n:\n",
    "    if n%i == 0:\n",
    "        count=count+1\n",
    "        print(f\"{i}\")\n",
    "    i = i+1\n",
    "print(f\"{count}\")"
   ]
  },
  {
   "cell_type": "code",
   "execution_count": 71,
   "id": "1d0cceea",
   "metadata": {},
   "outputs": [
    {
     "name": "stdout",
     "output_type": "stream",
     "text": [
      "Enter num :2\n",
      "You lost\n",
      "Enter num :3\n",
      "You lost\n",
      "Enter num :4\n",
      "You lost\n",
      "Better luck next time\n"
     ]
    }
   ],
   "source": [
    "import random\n",
    "i = 1\n",
    "while i <=3:\n",
    "    n1 = random.randint(1,10)\n",
    "    n2 = eval(input(\"Enter num :\"))\n",
    "    if n1 == n2:\n",
    "        print(\"You Won\")\n",
    "        break\n",
    "    else:\n",
    "        print(\"You lost\")\n",
    "        if i == 3:\n",
    "            print(\"Better luck next time\")\n",
    "    i = i+1"
   ]
  },
  {
   "cell_type": "code",
   "execution_count": 77,
   "id": "a47739a0",
   "metadata": {},
   "outputs": [
    {
     "name": "stdout",
     "output_type": "stream",
     "text": [
      "You still donot have money to start playing\n",
      "Withdraw money from wallet50\n",
      "current balance is 250\n",
      "You still donot have money to start playing\n",
      "Withdraw money from wallet200\n",
      "current balance is 450\n",
      "You still donot have money to start playing\n",
      "Withdraw money from wallet231\n",
      "current balance is 681\n",
      "You still donot have money to start playing\n",
      "Withdraw money from wallet230\n",
      "current balance is 911\n",
      "You still donot have money to start playing\n",
      "Withdraw money from wallet88\n",
      "current balance is 999\n",
      "You still donot have money to start playing\n",
      "Withdraw money from wallet1\n",
      "current balance is 1000\n",
      "Now you are ready to play the game tot bal is 1000\n"
     ]
    }
   ],
   "source": [
    "ini_bal = 200\n",
    "wall_bal = 5000\n",
    "if ini_bal >= 1000:\n",
    "    print(\"Now you are ready to play the game\")\n",
    "else:\n",
    "    while ini_bal < 1000:\n",
    "        print(\"You still donot have money to start playing\")\n",
    "        mon_wit = eval(input(\"Withdraw money from wallet : \"))\n",
    "        wall_bal = wall_bal-mon_wit\n",
    "        ini_bal = ini_bal+mon_wit\n",
    "        print(f\"current balance is {ini_bal}\")\n",
    "    print(f\"Now you are ready to play the game tot bal is {ini_bal}\")\n",
    "    \n"
   ]
  },
  {
   "cell_type": "code",
   "execution_count": null,
   "id": "45905cb8",
   "metadata": {},
   "outputs": [],
   "source": []
  }
 ],
 "metadata": {
  "kernelspec": {
   "display_name": "Python 3 (ipykernel)",
   "language": "python",
   "name": "python3"
  },
  "language_info": {
   "codemirror_mode": {
    "name": "ipython",
    "version": 3
   },
   "file_extension": ".py",
   "mimetype": "text/x-python",
   "name": "python",
   "nbconvert_exporter": "python",
   "pygments_lexer": "ipython3",
   "version": "3.11.5"
  }
 },
 "nbformat": 4,
 "nbformat_minor": 5
}
