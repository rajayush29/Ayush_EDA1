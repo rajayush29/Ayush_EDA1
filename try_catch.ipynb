{
 "cells": [
  {
   "cell_type": "code",
   "execution_count": 7,
   "id": "4ad84bb2",
   "metadata": {},
   "outputs": [
    {
     "name": "stdout",
     "output_type": "stream",
     "text": [
      "Enter num1 : 20\n",
      "Enter num2 : 0\n",
      "division by zero\n",
      "hello\n"
     ]
    }
   ],
   "source": [
    "try:\n",
    "    num1 = eval(input(\"Enter num1 : \"))\n",
    "    num2 = eval(input(\"Enter num2 : \"))\n",
    "    num3 = num1/num2\n",
    "    print(f\"{num3}\")\n",
    "except:\n",
    "    print(\"division by zero\")\n",
    "    print(\"hello\")"
   ]
  },
  {
   "cell_type": "code",
   "execution_count": 10,
   "id": "5529ff04",
   "metadata": {},
   "outputs": [
    {
     "name": "stdout",
     "output_type": "stream",
     "text": [
      "now im in try block\n",
      "enter a num1:0\n",
      "enter a num2:98\n",
      "0.0\n",
      "hello\n",
      "python\n"
     ]
    }
   ],
   "source": [
    "\n",
    "try:\n",
    "    print(\"now im in try block\")\n",
    "    num1=eval(input(\"enter a num1:\")) \n",
    "    num2=eval(input(\"enter a num2:\")) \n",
    "    print(num1/num2)\n",
    "    print(\"hello\")\n",
    "    print(\"python\")\n",
    " \n",
    "except:\n",
    "    print(\"you got error in try block\")\n",
    "    print(\"now im in except block\")\n",
    "    print(\"now i will show the error\")\n",
    "    print(\"zero division error\")\n",
    "    num1=eval(input(\"enter a num1:\")) \n",
    "    num2=eval(input(\"enter a num2:\")) \n",
    "    print(num1+num2)\n"
   ]
  },
  {
   "cell_type": "code",
   "execution_count": 11,
   "id": "cdfd2aa5",
   "metadata": {},
   "outputs": [
    {
     "name": "stdout",
     "output_type": "stream",
     "text": [
      "hello\n",
      "python\n",
      "0.1\n",
      "1\n",
      "2\n",
      "hellopython\n"
     ]
    }
   ],
   "source": [
    "str1='hello'\n",
    "str2='python'\n",
    "print(str1)\n",
    "print(str2)\n",
    "#################################################\n",
    "try:\n",
    "    n1=20\n",
    "    n2=200\n",
    "    print(n1/n2) # 20/0 error\n",
    "except:\n",
    "    print(\"zero division error\")\n",
    "    print('okay')\n",
    "###############################################\n",
    " \n",
    "print(1)\n",
    "print(2)\n",
    "print(str1+str2)\n",
    "\n",
    "##hello\n",
    "##python\n",
    "#0.1\n",
    "#1\n",
    "#2\n",
    "#12\n"
   ]
  },
  {
   "cell_type": "code",
   "execution_count": 14,
   "id": "462313e2",
   "metadata": {},
   "outputs": [
    {
     "name": "stdout",
     "output_type": "stream",
     "text": [
      "Enter num1python\n",
      "name 'python' is not defined\n"
     ]
    }
   ],
   "source": [
    "try:\n",
    "    num1 = eval(input(\"Enter num1\"))\n",
    "    num2 = eval(input(\"Enter num2\"))\n",
    "    print(num1/num2)\n",
    "\n",
    "except Exception as e:\n",
    "    print(e)"
   ]
  },
  {
   "cell_type": "code",
   "execution_count": 20,
   "id": "e99fd922",
   "metadata": {},
   "outputs": [
    {
     "name": "stdout",
     "output_type": "stream",
     "text": [
      "enter a number:python\n",
      "name 'python' is not defined\n",
      "8\n"
     ]
    }
   ],
   "source": [
    "try:\n",
    "    num=eval(input(\"enter a number:\"))\n",
    "    if num%2==0:\n",
    "        print(f\"{num} is an even\")\n",
    "    else:\n",
    "        print(f\"{num} is an odd\")\n",
    " \n",
    "except Exception as e:\n",
    "    print(e)\n",
    "    print(3+5)"
   ]
  },
  {
   "cell_type": "code",
   "execution_count": 24,
   "id": "2c779f70",
   "metadata": {},
   "outputs": [
    {
     "name": "stdout",
     "output_type": "stream",
     "text": [
      "Enter a number : python\n"
     ]
    },
    {
     "ename": "NameError",
     "evalue": "name 'exception' is not defined",
     "output_type": "error",
     "traceback": [
      "\u001b[1;31m---------------------------------------------------------------------------\u001b[0m",
      "\u001b[1;31mNameError\u001b[0m                                 Traceback (most recent call last)",
      "Cell \u001b[1;32mIn[24], line 2\u001b[0m\n\u001b[0;32m      1\u001b[0m \u001b[38;5;28;01mtry\u001b[39;00m:\n\u001b[1;32m----> 2\u001b[0m     num1 \u001b[38;5;241m=\u001b[39m \u001b[38;5;28meval\u001b[39m(\u001b[38;5;28minput\u001b[39m(\u001b[38;5;124m\"\u001b[39m\u001b[38;5;124mEnter a number : \u001b[39m\u001b[38;5;124m\"\u001b[39m))\n\u001b[0;32m      3\u001b[0m     \u001b[38;5;28;01mif\u001b[39;00m num \u001b[38;5;241m>\u001b[39m \u001b[38;5;241m50\u001b[39m:\n",
      "File \u001b[1;32m<string>:1\u001b[0m\n",
      "\u001b[1;31mNameError\u001b[0m: name 'python' is not defined",
      "\nDuring handling of the above exception, another exception occurred:\n",
      "\u001b[1;31mNameError\u001b[0m                                 Traceback (most recent call last)",
      "Cell \u001b[1;32mIn[24], line 8\u001b[0m\n\u001b[0;32m      5\u001b[0m     \u001b[38;5;28;01melse\u001b[39;00m:\n\u001b[0;32m      6\u001b[0m         \u001b[38;5;28mprint\u001b[39m(\u001b[38;5;124m\"\u001b[39m\u001b[38;5;124msmaller than 50\u001b[39m\u001b[38;5;124m\"\u001b[39m)\n\u001b[1;32m----> 8\u001b[0m \u001b[38;5;28;01mexcept\u001b[39;00m exception \u001b[38;5;28;01mas\u001b[39;00m e:\n\u001b[0;32m      9\u001b[0m     \u001b[38;5;28mprint\u001b[39m(e)\n",
      "\u001b[1;31mNameError\u001b[0m: name 'exception' is not defined"
     ]
    }
   ],
   "source": [
    "try:\n",
    "    num1 = eval(input(\"Enter a number : \"))\n",
    "    if num > 50:\n",
    "        print(\"Greater than 50\")\n",
    "    else:\n",
    "        print(\"smaller than 50\")\n",
    "\n",
    "except exception as e:\n",
    "    print(e)"
   ]
  },
  {
   "cell_type": "code",
   "execution_count": 28,
   "id": "a01c1dd7",
   "metadata": {},
   "outputs": [
    {
     "name": "stdout",
     "output_type": "stream",
     "text": [
      "conductor:do u have the pass\n",
      "mother:no\n",
      "conductor:pay the money\n",
      "mother:how much\n",
      "conductor:how many km\n",
      "mother:25km\n",
      "invalid decimal literal (<string>, line 1)\n"
     ]
    }
   ],
   "source": [
    "try:\n",
    "    input(\"conductor:\")\n",
    "    id1=input(\"mother:\")\n",
    "    if id1=='yes':\n",
    "        print(\"enjoy the free trip\")\n",
    "    else:\n",
    "        input(\"conductor:\") # pay the money\n",
    "        input(\"mother:\") #how much\n",
    "        input(\"conductor:\") # how many km\n",
    "        dis=eval(input(\"mother:\")) # 25k\n",
    "        input(\"mother:\") #how much fare for km\n",
    "        fare=eval(input(\"conductor:\")) #2rs: fare\n",
    "        total= dis*fare\n",
    "        print(f\"for the distance {dis}, total cahrge is {total}\")\n",
    " \n",
    "except Exception as e:\n",
    "    print(e)"
   ]
  },
  {
   "cell_type": "code",
   "execution_count": null,
   "id": "f4b75f3e",
   "metadata": {},
   "outputs": [],
   "source": []
  }
 ],
 "metadata": {
  "kernelspec": {
   "display_name": "Python 3 (ipykernel)",
   "language": "python",
   "name": "python3"
  },
  "language_info": {
   "codemirror_mode": {
    "name": "ipython",
    "version": 3
   },
   "file_extension": ".py",
   "mimetype": "text/x-python",
   "name": "python",
   "nbconvert_exporter": "python",
   "pygments_lexer": "ipython3",
   "version": "3.11.5"
  }
 },
 "nbformat": 4,
 "nbformat_minor": 5
}
