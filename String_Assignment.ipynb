{
 "cells": [
  {
   "cell_type": "code",
   "execution_count": 1,
   "id": "f7319b20",
   "metadata": {},
   "outputs": [
    {
     "name": "stdout",
     "output_type": "stream",
     "text": [
      "Hi\n"
     ]
    }
   ],
   "source": [
    "print('Hi')"
   ]
  },
  {
   "cell_type": "code",
   "execution_count": 4,
   "id": "7007e6d1",
   "metadata": {},
   "outputs": [
    {
     "name": "stdout",
     "output_type": "stream",
     "text": [
      "20\n",
      "H\n",
      "H\n",
      "i\n",
      " \n"
     ]
    }
   ],
   "source": [
    "str1='Hi how are you doing'\n",
    "i=len(str1)\n",
    "print(i)\n",
    "print(str1[0])\n",
    "#3\n",
    "for i in range(3):\n",
    "    print(str1[i])"
   ]
  },
  {
   "cell_type": "code",
   "execution_count": 8,
   "id": "1b130132",
   "metadata": {},
   "outputs": [
    {
     "name": "stdout",
     "output_type": "stream",
     "text": [
      "H\n",
      "e\n",
      "y\n"
     ]
    }
   ],
   "source": [
    "str1='Hey how are you doing'\n",
    "for i in range(3):\n",
    "    print(str1[i])\n"
   ]
  },
  {
   "cell_type": "code",
   "execution_count": 14,
   "id": "d84368df",
   "metadata": {},
   "outputs": [
    {
     "name": "stdout",
     "output_type": "stream",
     "text": [
      "i\n",
      "n\n",
      "g\n"
     ]
    }
   ],
   "source": [
    "str1='Hey how are you doing'\n",
    "n=len(str1)\n",
    "for i in range(-3,0):\n",
    "    print(str1[i])"
   ]
  },
  {
   "cell_type": "code",
   "execution_count": 29,
   "id": "62387b83",
   "metadata": {},
   "outputs": [
    {
     "name": "stdout",
     "output_type": "stream",
     "text": [
      "g\n",
      "n\n",
      "i\n",
      "o\n",
      "d\n",
      " \n",
      "u\n",
      "o\n",
      "y\n",
      " \n",
      "e\n",
      "r\n",
      "a\n",
      " \n",
      "w\n",
      "o\n",
      "h\n",
      " \n",
      "y\n",
      "e\n",
      "H\n"
     ]
    }
   ],
   "source": [
    "n=len(str1)\n",
    "for i in range(1,n+1):\n",
    "    print(str1[-i])"
   ]
  },
  {
   "cell_type": "code",
   "execution_count": 31,
   "id": "31bab2a6",
   "metadata": {},
   "outputs": [
    {
     "name": "stdout",
     "output_type": "stream",
     "text": [
      "r\n"
     ]
    }
   ],
   "source": [
    "str1='what are you doing'\n",
    "print(str1[6])"
   ]
  },
  {
   "cell_type": "code",
   "execution_count": 34,
   "id": "9739f2ab",
   "metadata": {},
   "outputs": [
    {
     "name": "stdout",
     "output_type": "stream",
     "text": [
      "h\n",
      "a\n",
      "t\n",
      " \n",
      "a\n",
      "r\n",
      "e\n",
      " \n",
      "y\n",
      "o\n",
      "u\n",
      " \n",
      "d\n",
      "o\n",
      "i\n",
      "n\n"
     ]
    }
   ],
   "source": [
    "for i in range(1,len(str1)-1):\n",
    "    print(str1[i])"
   ]
  },
  {
   "cell_type": "code",
   "execution_count": 36,
   "id": "8cb496cc",
   "metadata": {},
   "outputs": [
    {
     "data": {
      "text/plain": [
       "'WHAT ARE YOU DOING'"
      ]
     },
     "execution_count": 36,
     "metadata": {},
     "output_type": "execute_result"
    }
   ],
   "source": [
    "str1.upper()"
   ]
  },
  {
   "cell_type": "code",
   "execution_count": 37,
   "id": "3529e553",
   "metadata": {},
   "outputs": [
    {
     "data": {
      "text/plain": [
       "'whet ere you doing'"
      ]
     },
     "execution_count": 37,
     "metadata": {},
     "output_type": "execute_result"
    }
   ],
   "source": [
    "str1.replace('a','e')"
   ]
  },
  {
   "cell_type": "code",
   "execution_count": 44,
   "id": "179a0a1f",
   "metadata": {},
   "outputs": [
    {
     "name": "stdout",
     "output_type": "stream",
     "text": [
      "y\n",
      "w\n",
      "e\n",
      "u\n",
      "t\n",
      "e\n",
      "number of words are 6\n"
     ]
    }
   ],
   "source": [
    "#2\n",
    "str1='Hey how are you what are doing'\n",
    "count=0\n",
    "n=len(str1)\n",
    "for i in range(n):\n",
    "    if str1[i] ==' ':\n",
    "        print(str1[i-1])\n",
    "        count=count+1\n",
    "print(f\"number of words are {count}\")"
   ]
  },
  {
   "cell_type": "code",
   "execution_count": 54,
   "id": "f3d20b4f",
   "metadata": {},
   "outputs": [
    {
     "name": "stdout",
     "output_type": "stream",
     "text": [
      "Enter a word : piyush\n",
      "It contains vowel\n"
     ]
    }
   ],
   "source": [
    "#3\n",
    "str1=input(\"Enter a word : \")\n",
    "n=len(str1)\n",
    "count=0\n",
    "for i in range(n):\n",
    "    if str1[i] in 'aeiou':\n",
    "        count=count+1\n",
    "        \n",
    "if count>=1:\n",
    "    print(\"It contains vowel\")     \n",
    "else:\n",
    "    print(\"It doesn't contain vowel\")"
   ]
  },
  {
   "cell_type": "code",
   "execution_count": 156,
   "id": "770c51fa",
   "metadata": {},
   "outputs": [
    {
     "name": "stdout",
     "output_type": "stream",
     "text": [
      "Enter a word : ayushahaha\n",
      "Enter the vowela\n",
      "a is 4 times\n"
     ]
    }
   ],
   "source": [
    "#4\n",
    "str1=input(\"Enter a word : \")\n",
    "s2=input(\"Enter the vowel\")\n",
    "n=len(str1)\n",
    "count=0\n",
    "for i in range(n):\n",
    "    if str1[i] == s2:\n",
    "        count=count+1\n",
    "print(f\"{s2} is {count} times\")\n"
   ]
  },
  {
   "cell_type": "code",
   "execution_count": 154,
   "id": "16a174f4",
   "metadata": {},
   "outputs": [
    {
     "data": {
      "text/plain": [
       "'Q*ert!!!'"
      ]
     },
     "execution_count": 154,
     "metadata": {},
     "output_type": "execute_result"
    }
   ],
   "source": [
    "#5\n",
    "s1='Qbert'\n",
    "s2=s1.replace(s1[1:2],'*')\n",
    "s2=s2+'!!!'\n",
    "s2"
   ]
  },
  {
   "cell_type": "code",
   "execution_count": 79,
   "id": "ad50cc6d",
   "metadata": {},
   "outputs": [
    {
     "name": "stdout",
     "output_type": "stream",
     "text": [
      "Enter a string : jalaj\n",
      "Pallindrome\n"
     ]
    }
   ],
   "source": [
    "#6\n",
    "s1=input(\"Enter a string : \")\n",
    "n=len(s1)\n",
    "if s1[::-1]==s1[::]:\n",
    "    print(\"Pallindrome\")\n",
    "else:\n",
    "    print(\"Not pallindrome\")\n"
   ]
  },
  {
   "cell_type": "code",
   "execution_count": 3,
   "id": "4c4a5ec8",
   "metadata": {},
   "outputs": [
    {
     "name": "stdout",
     "output_type": "stream",
     "text": [
      "count 2\n"
     ]
    }
   ],
   "source": [
    "s1='Hello how are you i am good'\n",
    "count = 0\n",
    "for i in range(len(s1)):\n",
    "    if s1[i] == 'a':\n",
    "        count=count+1\n",
    "print(f\"count {count}\")"
   ]
  },
  {
   "cell_type": "code",
   "execution_count": 93,
   "id": "776a12ab",
   "metadata": {},
   "outputs": [
    {
     "name": "stdout",
     "output_type": "stream",
     "text": [
      "Enter number of email address you will be entering2\n",
      "2 email address will be entering\n",
      "Enter the email address@student.hgfdt\n",
      "Enter the email address@student.gftrg\n",
      "all are student mail id\n",
      "2 with student email and 0 with proffessor id\n"
     ]
    }
   ],
   "source": [
    "#7\n",
    "num=eval(input(\"Enter number of email address you will be entering\"))\n",
    "counts=0\n",
    "countp=0\n",
    "print(f\"{num} email address will be entering\")\n",
    "for i in range(num):\n",
    "    i = input(\"Enter the email address\")\n",
    "    i1=i.index('.')\n",
    "    if i[1:i1] == 'student':\n",
    "        counts=counts+1\n",
    "    if i[1:i1] == 'prof': \n",
    "        countp=countp+1\n",
    "    if counts == num:\n",
    "        print(\"all are student mail id\")\n",
    "    if counts < num & countp+counts == num:\n",
    "        print(\"some are student mail id and some are prof email\")\n",
    "        \n",
    "print(f\"{counts} with student email and {countp} with proffessor id\")\n"
   ]
  },
  {
   "cell_type": "code",
   "execution_count": 14,
   "id": "78897e9a",
   "metadata": {},
   "outputs": [
    {
     "name": "stdout",
     "output_type": "stream",
     "text": [
      "HH\n",
      "EE\n",
      "YY\n"
     ]
    }
   ],
   "source": [
    "#8\n",
    "s1='HEY'\n",
    "for i in range(len(s1)):\n",
    "    print(s1[i]*2)"
   ]
  },
  {
   "cell_type": "code",
   "execution_count": 21,
   "id": "ebf03d30",
   "metadata": {},
   "outputs": [
    {
     "name": "stdout",
     "output_type": "stream",
     "text": [
      "buffa\n",
      "lo\n"
     ]
    }
   ],
   "source": [
    "#9\n",
    "s1='buffalo'\n",
    "i1=s1.index('a')\n",
    "str1 = s1[0:i1+1]\n",
    "str2 = s1[i1+1:]\n",
    "print(str1)\n",
    "print(str2)"
   ]
  },
  {
   "cell_type": "code",
   "execution_count": 101,
   "id": "f5003159",
   "metadata": {},
   "outputs": [
    {
     "name": "stdout",
     "output_type": "stream",
     "text": [
      "rHiNoCeRoUs"
     ]
    }
   ],
   "source": [
    "#10\n",
    "s1='rhinocerous'\n",
    "for i in range(11):\n",
    "    if i%2==0:\n",
    "        print(s1[i],end='')\n",
    "    else:\n",
    "        print(s1[i].capitalize(),end='')\n",
    "        \n",
    "    "
   ]
  },
  {
   "cell_type": "code",
   "execution_count": 104,
   "id": "a5826b5e",
   "metadata": {},
   "outputs": [
    {
     "name": "stdout",
     "output_type": "stream",
     "text": [
      "Enter string 1 : ayush\n",
      "Enter string 2 : raman\n",
      "aryaumsahn"
     ]
    }
   ],
   "source": [
    "#11\n",
    "s1=input(\"Enter string 1 : \")\n",
    "s2=input(\"Enter string 2 : \")\n",
    "s3=''\n",
    "if len(s1) != len(s2):\n",
    "    print(\"Length is not equal\")\n",
    "else:\n",
    "    for i in range(len(s1)):\n",
    "        print(f\"{s1[i]}{s2[i]}\",end='')\n",
    "    \n"
   ]
  },
  {
   "cell_type": "code",
   "execution_count": 35,
   "id": "2faa4b8f",
   "metadata": {},
   "outputs": [
    {
     "name": "stdout",
     "output_type": "stream",
     "text": [
      "Enter name in lowercase : piyush\n"
     ]
    },
    {
     "data": {
      "text/plain": [
       "'Piyush'"
      ]
     },
     "execution_count": 35,
     "metadata": {},
     "output_type": "execute_result"
    }
   ],
   "source": [
    "#12\n",
    "s1=input(\"Enter name in lowercase : \")\n",
    "s1.capitalize()"
   ]
  },
  {
   "cell_type": "code",
   "execution_count": 41,
   "id": "e70e78df",
   "metadata": {},
   "outputs": [
    {
     "name": "stdout",
     "output_type": "stream",
     "text": [
      "Enter the string : ayush\n",
      "Enter the letter : a\n",
      "a exist s1\n"
     ]
    }
   ],
   "source": [
    "#13\n",
    "s1=input(\"Enter the string : \")\n",
    "s2=input(\"Enter the letter : \")\n",
    "count=0\n",
    "for i in range(len(s1)):\n",
    "    if s1[i]==s2[0]:\n",
    "        count=count+1\n",
    "if count>=1:\n",
    "    print(f\"{s2[0]} exist s1\")\n",
    "else:\n",
    "    print(f\"{s2[0]} doesn't exist s1\")"
   ]
  },
  {
   "cell_type": "code",
   "execution_count": 46,
   "id": "ec7d9c23",
   "metadata": {},
   "outputs": [
    {
     "name": "stdout",
     "output_type": "stream",
     "text": [
      "Enter the string : ayushahah\n",
      "Enter the letter : h\n",
      "h exists 3 times s1\n"
     ]
    }
   ],
   "source": [
    "#13b\n",
    "s1=input(\"Enter the string : \")\n",
    "s2=input(\"Enter the letter : \")\n",
    "count=0\n",
    "for i in range(len(s1)):\n",
    "    if s1[i] == s2[0]:\n",
    "        count=count+1\n",
    "if count>=1:\n",
    "    print(f\"{s2[0]} exists {count} times s1\")\n",
    "else:\n",
    "    print(f\"{s2[0]} doesn't exist s1\")\n",
    "        \n",
    "    "
   ]
  },
  {
   "cell_type": "code",
   "execution_count": 106,
   "id": "dc8caeaa",
   "metadata": {},
   "outputs": [
    {
     "name": "stdout",
     "output_type": "stream",
     "text": [
      "Enter the string : ayushahj\n",
      "Enter the letter : k\n",
      "no\n"
     ]
    }
   ],
   "source": [
    "#13c\n",
    "s1=input(\"Enter the string : \")\n",
    "s2=input(\"Enter the letter : \")\n",
    "count=0\n",
    "for i in range(len(s1)):\n",
    "    if s1[i] == s2[0]:\n",
    "        print(i)\n",
    "        count=count+1\n",
    "        break\n",
    "        \n",
    "if count ==0:\n",
    "    print(\"no\")    \n",
    "\n"
   ]
  },
  {
   "cell_type": "code",
   "execution_count": 63,
   "id": "923a9e4a",
   "metadata": {},
   "outputs": [
    {
     "name": "stdout",
     "output_type": "stream",
     "text": [
      "a   S a t   J a n   5   0 9 : 1 4 : 1 6   2 0 0 8 "
     ]
    }
   ],
   "source": [
    "#14\n",
    "s1='stephen.marquard@uct.ac.za Sat Jan 5 09:14:16 2008'\n",
    "n=len(s1)\n",
    "for i in range(n//2,n):\n",
    "    print(f\"{s1[i]}\",end=' ')"
   ]
  },
  {
   "cell_type": "code",
   "execution_count": 144,
   "id": "481083f2",
   "metadata": {},
   "outputs": [
    {
     "name": "stdout",
     "output_type": "stream",
     "text": [
      "Enter the stringstring\n"
     ]
    },
    {
     "data": {
      "text/plain": [
       "'stringly'"
      ]
     },
     "execution_count": 144,
     "metadata": {},
     "output_type": "execute_result"
    }
   ],
   "source": [
    "#15\n",
    "s1=input(\"Enter the string\")\n",
    "n=len(s1)\n",
    "if n >= 3:\n",
    "    if s1[n-3:n:]=='ing':\n",
    "        s2 = s1+'ly'\n",
    "    else:\n",
    "        s2=s1+'ing'\n",
    "    \n",
    "else:\n",
    "        print(\"no\")\n",
    "        s2 =s1\n",
    "s2\n",
    "    \n",
    "\n",
    "    \n",
    "    \n",
    "        \n",
    "        "
   ]
  },
  {
   "cell_type": "code",
   "execution_count": 120,
   "id": "277618e1",
   "metadata": {},
   "outputs": [
    {
     "data": {
      "text/plain": [
       "'ing'"
      ]
     },
     "execution_count": 120,
     "metadata": {},
     "output_type": "execute_result"
    }
   ],
   "source": [
    "s1='ayuing'\n",
    "n=len(s1)\n",
    "\n"
   ]
  },
  {
   "cell_type": "code",
   "execution_count": 75,
   "id": "0e3b6f61",
   "metadata": {},
   "outputs": [
    {
     "data": {
      "text/plain": [
       "0.8475"
      ]
     },
     "execution_count": 75,
     "metadata": {},
     "output_type": "execute_result"
    }
   ],
   "source": [
    "#16\n",
    "str1='X-DASPAM-Confidence:0.8475'\n",
    "i1=str1.index(':')\n",
    "i1\n",
    "\n",
    "num = float(str1[i1+1::])\n",
    "num"
   ]
  },
  {
   "cell_type": "code",
   "execution_count": null,
   "id": "6ef3fc18",
   "metadata": {},
   "outputs": [],
   "source": []
  }
 ],
 "metadata": {
  "kernelspec": {
   "display_name": "Python 3 (ipykernel)",
   "language": "python",
   "name": "python3"
  },
  "language_info": {
   "codemirror_mode": {
    "name": "ipython",
    "version": 3
   },
   "file_extension": ".py",
   "mimetype": "text/x-python",
   "name": "python",
   "nbconvert_exporter": "python",
   "pygments_lexer": "ipython3",
   "version": "3.11.5"
  }
 },
 "nbformat": 4,
 "nbformat_minor": 5
}
