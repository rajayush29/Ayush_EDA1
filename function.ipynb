{
 "cells": [
  {
   "cell_type": "code",
   "execution_count": 3,
   "id": "76940b8d",
   "metadata": {},
   "outputs": [
    {
     "name": "stdout",
     "output_type": "stream",
     "text": [
      "Enter num1 : 12\n",
      "Enter num2 : 23\n",
      "35\n"
     ]
    }
   ],
   "source": [
    "num1 = eval(input(\"Enter num1 : \"))\n",
    "num2 = eval(input(\"Enter num2 : \"))\n",
    "print(num1+num2)"
   ]
  },
  {
   "cell_type": "code",
   "execution_count": 5,
   "id": "7f8fc7ba",
   "metadata": {},
   "outputs": [
    {
     "name": "stdout",
     "output_type": "stream",
     "text": [
      "Enter num1 : 12\n",
      "Enter num2 : 12\n",
      "24\n"
     ]
    }
   ],
   "source": [
    "def summ():\n",
    "    num1 = eval(input(\"Enter num1 : \"))\n",
    "    num2 = eval(input(\"Enter num2 : \"))\n",
    "    print(num1+num2)\n",
    "\n",
    "summ()"
   ]
  },
  {
   "cell_type": "code",
   "execution_count": 7,
   "id": "5893aad9",
   "metadata": {},
   "outputs": [
    {
     "name": "stdout",
     "output_type": "stream",
     "text": [
      "Enter num1 : 12\n",
      "Enter num2 : 34\n"
     ]
    },
    {
     "ename": "NameError",
     "evalue": "name 'num11' is not defined",
     "output_type": "error",
     "traceback": [
      "\u001b[1;31m---------------------------------------------------------------------------\u001b[0m",
      "\u001b[1;31mNameError\u001b[0m                                 Traceback (most recent call last)",
      "Cell \u001b[1;32mIn[7], line 9\u001b[0m\n\u001b[0;32m      6\u001b[0m \u001b[38;5;28;01mexcept\u001b[39;00m \u001b[38;5;167;01mException\u001b[39;00m \u001b[38;5;28;01mas\u001b[39;00m e:\n\u001b[0;32m      7\u001b[0m     \u001b[38;5;28mprint\u001b[39m(e)\n\u001b[1;32m----> 9\u001b[0m summ()\n",
      "Cell \u001b[1;32mIn[7], line 5\u001b[0m, in \u001b[0;36msumm\u001b[1;34m()\u001b[0m\n\u001b[0;32m      3\u001b[0m num1 \u001b[38;5;241m=\u001b[39m \u001b[38;5;28meval\u001b[39m(\u001b[38;5;28minput\u001b[39m(\u001b[38;5;124m\"\u001b[39m\u001b[38;5;124mEnter num1 : \u001b[39m\u001b[38;5;124m\"\u001b[39m))\n\u001b[0;32m      4\u001b[0m num2 \u001b[38;5;241m=\u001b[39m \u001b[38;5;28meval\u001b[39m(\u001b[38;5;28minput\u001b[39m(\u001b[38;5;124m\"\u001b[39m\u001b[38;5;124mEnter num2 : \u001b[39m\u001b[38;5;124m\"\u001b[39m))\n\u001b[1;32m----> 5\u001b[0m \u001b[38;5;28mprint\u001b[39m(num11\u001b[38;5;241m+\u001b[39mnum2)\n",
      "\u001b[1;31mNameError\u001b[0m: name 'num11' is not defined"
     ]
    }
   ],
   "source": [
    "try:\n",
    "    def summ():\n",
    "        num1 = eval(input(\"Enter num1 : \"))\n",
    "        num2 = eval(input(\"Enter num2 : \"))\n",
    "        print(num11+num2)\n",
    "except Exception as e:\n",
    "    print(e)\n",
    "\n",
    "summ()"
   ]
  },
  {
   "cell_type": "code",
   "execution_count": 12,
   "id": "937d5dc4",
   "metadata": {},
   "outputs": [],
   "source": [
    "# wap ask the user enter three numbers\n",
    "# find the average\n",
    "# implement the function call\n",
    "def avgg():\n",
    "    num1 = eval(input(\"Enter number 1 : \"))\n",
    "    num2 = eval(input(\"Enter number 2 : \"))\n",
    "    num3 = eval(input(\"Enter number 3 : \"))\n",
    "\n",
    "    avgg = round((num1+num2+num3)/3,2)\n",
    "\n",
    "    print(f\"{avgg}\")"
   ]
  },
  {
   "cell_type": "code",
   "execution_count": 13,
   "id": "6c0b12c3",
   "metadata": {},
   "outputs": [
    {
     "name": "stdout",
     "output_type": "stream",
     "text": [
      "Enter number 1 : 12\n",
      "Enter number 2 : 23\n",
      "Enter number 3 : 34\n",
      "23.0\n"
     ]
    }
   ],
   "source": [
    "avgg()"
   ]
  },
  {
   "cell_type": "code",
   "execution_count": 15,
   "id": "0ef3a66f",
   "metadata": {},
   "outputs": [
    {
     "name": "stdout",
     "output_type": "stream",
     "text": [
      "Enter bill : 12\n",
      "Enter tip percentage : 2\n",
      "12.24\n"
     ]
    }
   ],
   "source": [
    "# WAP ask the user enter bill amount\n",
    "# ask the user enter tip percentage\n",
    "# calculate total bill\n",
    "#implement the function\n",
    "\n",
    "bill = eval(input(\"Enter bill : \"))\n",
    "tip = eval(input(\"Enter tip percentage : \"))\n",
    "tot_bill = bill + bill*(tip/100)\n",
    "print(f\"{tot_bill}\")"
   ]
  },
  {
   "cell_type": "code",
   "execution_count": 16,
   "id": "bc3d5486",
   "metadata": {},
   "outputs": [],
   "source": [
    "def tot_bill():\n",
    "    bill = eval(input(\"Enter bill : \"))\n",
    "    tip = eval(input(\"Enter tip percentage : \"))\n",
    "    tot_bill = bill + bill*(tip/100)\n",
    "    print(f\"{tot_bill}\")"
   ]
  },
  {
   "cell_type": "code",
   "execution_count": 17,
   "id": "fec79357",
   "metadata": {},
   "outputs": [
    {
     "name": "stdout",
     "output_type": "stream",
     "text": [
      "Enter bill : 1098\n",
      "Enter tip percentage : 23\n",
      "1350.54\n"
     ]
    }
   ],
   "source": [
    "tot_bill()"
   ]
  },
  {
   "cell_type": "code",
   "execution_count": null,
   "id": "96da0927",
   "metadata": {},
   "outputs": [],
   "source": [
    "def addition():\n",
    "    try:\n",
    "        num1 = eval(input(\"Enter number 1 : \"))\n",
    "        num2 = eval(input(\"Enter number 2 : \"))\n",
    "        summ = num1+num2\n",
    "        print(f\"{summ}\")\n",
    "    except Exceotion as e:\n",
    "        print(e)"
   ]
  }
 ],
 "metadata": {
  "kernelspec": {
   "display_name": "Python 3 (ipykernel)",
   "language": "python",
   "name": "python3"
  },
  "language_info": {
   "codemirror_mode": {
    "name": "ipython",
    "version": 3
   },
   "file_extension": ".py",
   "mimetype": "text/x-python",
   "name": "python",
   "nbconvert_exporter": "python",
   "pygments_lexer": "ipython3",
   "version": "3.11.5"
  }
 },
 "nbformat": 4,
 "nbformat_minor": 5
}
