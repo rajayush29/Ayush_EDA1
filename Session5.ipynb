{
 "cells": [
  {
   "cell_type": "code",
   "execution_count": 2,
   "id": "88ff2c69",
   "metadata": {},
   "outputs": [
    {
     "name": "stdout",
     "output_type": "stream",
     "text": [
      "Enter a no. :7\n",
      "49\n"
     ]
    }
   ],
   "source": [
    "num1=int(input(\"Enter a no. :\"))\n",
    "num2=num1*num1\n",
    "print(f\"{num2}\")"
   ]
  },
  {
   "cell_type": "code",
   "execution_count": 4,
   "id": "7a15ffd4",
   "metadata": {},
   "outputs": [
    {
     "name": "stdout",
     "output_type": "stream",
     "text": [
      "Enter a no. :7\n",
      "7---14---21---28---35\n"
     ]
    }
   ],
   "source": [
    "num1=int(input(\"Enter a no. :\"))\n",
    "print(f\"{num1*1}\",end='---')\n",
    "print(f\"{num1*2}\",end='---')\n",
    "print(f\"{num1*3}\",end='---')\n",
    "print(f\"{num1*4}\",end='---')\n",
    "print(f\"{num1*5}\")"
   ]
  },
  {
   "cell_type": "code",
   "execution_count": 7,
   "id": "95bbdac6",
   "metadata": {},
   "outputs": [
    {
     "name": "stdout",
     "output_type": "stream",
     "text": [
      "Enter weight in KG5\n",
      "5 kg equals to 11.0 pound\n"
     ]
    }
   ],
   "source": [
    "weight=int(input(\"Enter weight in KG\"))\n",
    "wep=2.2*weight\n",
    "print(f\"{weight} kg equals to {wep} pound\")"
   ]
  },
  {
   "cell_type": "code",
   "execution_count": 10,
   "id": "96d11ad3",
   "metadata": {},
   "outputs": [
    {
     "name": "stdout",
     "output_type": "stream",
     "text": [
      "Enter num1 : 3\n",
      "Enter num2 : 4\n",
      "Enter num3 : 5\n",
      "sum of three numbers are 12 and avg is 4.0\n"
     ]
    }
   ],
   "source": [
    "num1=eval(input(\"Enter num1 : \"))\n",
    "num2=eval(input(\"Enter num2 : \"))\n",
    "num3=eval(input(\"Enter num3 : \"))\n",
    "sum = num1+num2+num3\n",
    "avg = (sum)/3\n",
    "print(f\"sum of three numbers are {sum} and avg is {avg}\")"
   ]
  },
  {
   "cell_type": "code",
   "execution_count": 13,
   "id": "ce227dda",
   "metadata": {},
   "outputs": [
    {
     "name": "stdout",
     "output_type": "stream",
     "text": [
      "Enter total bil : 100\n",
      "Enter tip percentage : 10\n",
      "tip amount is 10.0 and bill after tip is 110.0\n"
     ]
    }
   ],
   "source": [
    "bill = eval(input(\"Enter total bil : \"))\n",
    "tip = eval(input(\"Enter tip percentage : \"))\n",
    "totip = bill*(tip/100)\n",
    "totbill = bill+totip\n",
    "\n",
    "print(f\"tip amount is {totip} and bill after tip is {totbill}\")"
   ]
  },
  {
   "cell_type": "code",
   "execution_count": 18,
   "id": "aa945550",
   "metadata": {},
   "outputs": [
    {
     "name": "stdout",
     "output_type": "stream",
     "text": [
      "Father: Hey Baby\n",
      "Daughter: Hello Dady\n",
      "Father: I heard your exams are over, what about result\n",
      "Daughter: Yes dad! Results are out.\n",
      "Father: what is the percentage?\n",
      "Daughter: I will give my subject wise marks , you tell me the percentage\n",
      "Father : Okay!\n",
      "input First Language marks : 40\n",
      "First Language: 40\n",
      "input second Language marks : 56\n",
      "Second Language: 56\n",
      "input Third Language marks : 54\n",
      "First Language: 54\n",
      "input Maths marks : 98\n",
      "Second Language: 98\n",
      "input Science marks : 68\n",
      "Second Language: 68\n",
      "Daughter: Dad Now tell me how much percentage I got\n",
      "Father: Tell me the max marks of each subject\n",
      "Daughter: its 100\n",
      "the total marks is 316 and percentage is 63.2\n"
     ]
    }
   ],
   "source": [
    "print(\"Father: Hey Baby\")\n",
    "print(\"Daughter: Hello Dady\")\n",
    "print(\"Father: I heard your exams are over, what about result\")\n",
    "print(\"Daughter: Yes dad! Results are out.\")\n",
    "print(\"Father: what is the percentage?\")\n",
    "print(\"Daughter: I will give my subject wise marks , you tell me the percentage\")\n",
    "print(\"Father : Okay!\")\n",
    "lan1 = eval(input(\"input First Language marks : \"))\n",
    "print(f\"First Language: {lan1}\")\n",
    "lan2 = eval(input(\"input second Language marks : \"))\n",
    "print(f\"Second Language: {lan2}\")\n",
    "lan3 = eval(input(\"input Third Language marks : \"))\n",
    "print(f\"First Language: {lan3}\")\n",
    "math = eval(input(\"input Maths marks : \"))\n",
    "print(f\"Second Language: {math}\")\n",
    "sci = eval(input(\"input Science marks : \"))\n",
    "print(f\"Second Language: {sci}\")\n",
    "print(\"Daughter: Dad Now tell me how much percentage I got\")\n",
    "print(\"Father: Tell me the max marks of each subject\")\n",
    "print(\"Daughter: its 100\")\n",
    "\n",
    "tot_marks=lan1+lan2+lan3+math+sci\n",
    "per = (tot_marks)/5\n",
    "\n",
    "print(f\"the total marks is {tot_marks} and percentage is {per}\")\n"
   ]
  },
  {
   "cell_type": "code",
   "execution_count": null,
   "id": "aa2e2f82",
   "metadata": {},
   "outputs": [],
   "source": []
  }
 ],
 "metadata": {
  "kernelspec": {
   "display_name": "Python 3 (ipykernel)",
   "language": "python",
   "name": "python3"
  },
  "language_info": {
   "codemirror_mode": {
    "name": "ipython",
    "version": 3
   },
   "file_extension": ".py",
   "mimetype": "text/x-python",
   "name": "python",
   "nbconvert_exporter": "python",
   "pygments_lexer": "ipython3",
   "version": "3.11.5"
  }
 },
 "nbformat": 4,
 "nbformat_minor": 5
}
