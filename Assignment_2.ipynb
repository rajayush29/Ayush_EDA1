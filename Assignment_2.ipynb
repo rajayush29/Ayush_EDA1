{
 "cells": [
  {
   "cell_type": "code",
   "execution_count": 1,
   "id": "a6760396",
   "metadata": {},
   "outputs": [],
   "source": [
    "import pandas as pd\n",
    "import numpy as np\n",
    "import matplotlib.pyplot as plt\n",
    "import seaborn as sns"
   ]
  },
  {
   "cell_type": "code",
   "execution_count": 5,
   "id": "964cb98e",
   "metadata": {},
   "outputs": [
    {
     "data": {
      "text/html": [
       "<div>\n",
       "<style scoped>\n",
       "    .dataframe tbody tr th:only-of-type {\n",
       "        vertical-align: middle;\n",
       "    }\n",
       "\n",
       "    .dataframe tbody tr th {\n",
       "        vertical-align: top;\n",
       "    }\n",
       "\n",
       "    .dataframe thead th {\n",
       "        text-align: right;\n",
       "    }\n",
       "</style>\n",
       "<table border=\"1\" class=\"dataframe\">\n",
       "  <thead>\n",
       "    <tr style=\"text-align: right;\">\n",
       "      <th></th>\n",
       "      <th>0</th>\n",
       "    </tr>\n",
       "  </thead>\n",
       "  <tbody>\n",
       "    <tr>\n",
       "      <th>0</th>\n",
       "      <td>NULL</td>\n",
       "    </tr>\n",
       "  </tbody>\n",
       "</table>\n",
       "</div>"
      ],
      "text/plain": [
       "      0\n",
       "0  NULL"
      ]
     },
     "execution_count": 5,
     "metadata": {},
     "output_type": "execute_result"
    }
   ],
   "source": [
    "data=['NULL']\n",
    "\n",
    "pd.DataFrame(data)"
   ]
  },
  {
   "cell_type": "code",
   "execution_count": 6,
   "id": "1fe1197b",
   "metadata": {},
   "outputs": [
    {
     "ename": "SyntaxError",
     "evalue": "unmatched ')' (818609213.py, line 1)",
     "output_type": "error",
     "traceback": [
      "\u001b[1;36m  Cell \u001b[1;32mIn[6], line 1\u001b[1;36m\u001b[0m\n\u001b[1;33m    4)Central limit theorem:\u001b[0m\n\u001b[1;37m     ^\u001b[0m\n\u001b[1;31mSyntaxError\u001b[0m\u001b[1;31m:\u001b[0m unmatched ')'\n"
     ]
    }
   ],
   "source": [
    "4)Central limit theorem:\n",
    "    \n",
    "even if the data in a large sample is randomly distributed.But if we take the sample of mean values then the mean \n",
    "values will be normally distributed."
   ]
  },
  {
   "cell_type": "code",
   "execution_count": 7,
   "id": "89bd28bc",
   "metadata": {},
   "outputs": [
    {
     "ename": "SyntaxError",
     "evalue": "unmatched ')' (1327193249.py, line 1)",
     "output_type": "error",
     "traceback": [
      "\u001b[1;36m  Cell \u001b[1;32mIn[7], line 1\u001b[1;36m\u001b[0m\n\u001b[1;33m    7)standardization:\u001b[0m\n\u001b[1;37m     ^\u001b[0m\n\u001b[1;31mSyntaxError\u001b[0m\u001b[1;31m:\u001b[0m unmatched ')'\n"
     ]
    }
   ],
   "source": [
    "7)standardization:\n",
    "  for a large set of data which is having value starting from -infinity to +infinty we can convert the data to value from -3 to \n",
    "  +3.\n",
    "  in normaliztion the scale will be from 0 to 1.\n"
   ]
  },
  {
   "cell_type": "code",
   "execution_count": 29,
   "id": "aac8fc6c",
   "metadata": {},
   "outputs": [
    {
     "name": "stdout",
     "output_type": "stream",
     "text": [
      "1704\n",
      "1708\n",
      "1712\n",
      "1716\n",
      "1720\n",
      "1724\n",
      "1728\n",
      "1732\n",
      "1736\n",
      "1740\n",
      "1744\n",
      "1748\n",
      "1752\n",
      "1756\n",
      "1760\n",
      "1764\n",
      "1768\n",
      "1772\n",
      "1776\n",
      "1780\n",
      "1784\n",
      "1788\n",
      "1792\n",
      "1796\n",
      "1804\n",
      "1808\n",
      "1812\n",
      "1816\n",
      "1820\n",
      "1824\n",
      "1828\n",
      "1832\n",
      "1836\n",
      "1840\n",
      "1844\n",
      "1848\n",
      "1852\n",
      "1856\n",
      "1860\n",
      "1864\n",
      "1868\n",
      "1872\n",
      "1876\n",
      "1880\n",
      "1884\n",
      "1888\n",
      "1892\n",
      "1896\n",
      "1904\n",
      "1908\n",
      "1912\n",
      "1916\n",
      "1920\n",
      "1924\n",
      "1928\n",
      "1932\n",
      "1936\n",
      "1940\n",
      "1944\n",
      "1948\n",
      "1952\n",
      "1956\n",
      "1960\n",
      "1964\n",
      "1968\n",
      "1972\n",
      "1976\n",
      "1980\n",
      "1984\n"
     ]
    }
   ],
   "source": [
    "for i in range (1700,1987):\n",
    "    if i%4 ==0:\n",
    "        if i%100 !=0:\n",
    "            print(i)\n",
    "    if i%400 == 0:\n",
    "        print(i)\n",
    "            \n",
    "        "
   ]
  },
  {
   "cell_type": "code",
   "execution_count": 22,
   "id": "035fbb4e",
   "metadata": {},
   "outputs": [
    {
     "name": "stdout",
     "output_type": "stream",
     "text": [
      "Enter n7\n",
      "0\n",
      "1\n",
      "1\n",
      "2\n",
      "3\n",
      "5\n",
      "8\n"
     ]
    }
   ],
   "source": [
    "10)\n",
    "c1=0\n",
    "c2=1\n",
    "n=eval(input(\"Enter n\"))\n",
    "print(c1)\n",
    "print(c2)\n",
    "for i in range(1,n-1):\n",
    "    c3=c1+c2\n",
    "    c1=c2\n",
    "    c2=c3\n",
    "    print(c3)\n",
    "\n"
   ]
  },
  {
   "cell_type": "code",
   "execution_count": 25,
   "id": "fed0fcb5",
   "metadata": {},
   "outputs": [
    {
     "data": {
      "text/plain": [
       "Text(0, 0.5, 'age')"
      ]
     },
     "execution_count": 25,
     "metadata": {},
     "output_type": "execute_result"
    },
    {
     "data": {
      "image/png": "[encoded data removed]",
      "text/plain": [
       "<Figure size 640x480 with 1 Axes>"
      ]
     },
     "metadata": {},
     "output_type": "display_data"
    }
   ],
   "source": [
    "name=['ayush','piyush','honey']\n",
    "age=[27,30,24]\n",
    "\n",
    "plt.bar(name,age)\n",
    "plt.xlabel('name')\n",
    "plt.ylabel('age')"
   ]
  },
  {
   "cell_type": "code",
   "execution_count": null,
   "id": "8beb2a0a",
   "metadata": {},
   "outputs": [],
   "source": [
    "Q)Classification and Regression\n",
    "\n",
    "Classification: we use this process to classify our output. If we want to classify and place as good or bad in that case we use\n",
    "    classification.\n",
    "    \n",
    "Regression: It takes the discrete data and help us to make a future prediction. like what is the percentage of rain today."
   ]
  }
 ],
 "metadata": {
  "kernelspec": {
   "display_name": "Python 3 (ipykernel)",
   "language": "python",
   "name": "python3"
  },
  "language_info": {
   "codemirror_mode": {
    "name": "ipython",
    "version": 3
   },
   "file_extension": ".py",
   "mimetype": "text/x-python",
   "name": "python",
   "nbconvert_exporter": "python",
   "pygments_lexer": "ipython3",
   "version": "3.11.5"
  }
 },
 "nbformat": 4,
 "nbformat_minor": 5
}
